{
  "nbformat": 4,
  "nbformat_minor": 0,
  "metadata": {
    "colab": {
      "name": "Final_Assessment_by_Amarachi_Ike.ipynb",
      "provenance": [],
      "collapsed_sections": [],
      "include_colab_link": true
    },
    "kernelspec": {
      "name": "python3",
      "display_name": "Python 3"
    },
    "language_info": {
      "name": "python"
    }
  },
  "cells": [
    {
      "cell_type": "markdown",
      "metadata": {
        "id": "view-in-github",
        "colab_type": "text"
      },
      "source": [
        "<a href=\"https://colab.research.google.com/github/amie001/AfroTech-Girls-Task-1/blob/main/Final_Assessment_by_Amarachi_Ike.ipynb\" target=\"_parent\"><img src=\"https://colab.research.google.com/assets/colab-badge.svg\" alt=\"Open In Colab\"/></a>"
      ]
    },
    {
      "cell_type": "markdown",
      "metadata": {
        "id": "syFOu-XdFcf0"
      },
      "source": [
        "##**Project**"
      ]
    },
    {
      "cell_type": "markdown",
      "metadata": {
        "id": "EDa7V9Q-F2-T"
      },
      "source": [
        "For this final assessment, we would be exploring this data. We would be working with data to predict the risk tag based on a person's information.\n"
      ]
    },
    {
      "cell_type": "markdown",
      "metadata": {
        "id": "jCn2CB1gNkFK"
      },
      "source": [
        "##Importing Libraries"
      ]
    },
    {
      "cell_type": "markdown",
      "metadata": {
        "id": "AOZ6DWStNrUF"
      },
      "source": [
        "**import the usual libraries for pandas and plotting. You can import sklearn later.**"
      ]
    },
    {
      "cell_type": "code",
      "metadata": {
        "id": "3UggR-yTEGL8"
      },
      "source": [
        "import pandas as pd\n",
        "import numpy as np\n",
        "import matplotlib.pyplot as plt\n",
        "import seaborn as sns\n",
        "%matplotlib inline"
      ],
      "execution_count": 2,
      "outputs": []
    },
    {
      "cell_type": "markdown",
      "metadata": {
        "id": "L6yYxagtOBul"
      },
      "source": [
        "##Get the Data"
      ]
    },
    {
      "cell_type": "markdown",
      "metadata": {
        "id": "KSZMSzN-OHrG"
      },
      "source": [
        "**use pandas to read the dataframes**\n",
        "\n"
      ]
    },
    {
      "cell_type": "code",
      "metadata": {
        "id": "PiEurey_OA4K"
      },
      "source": [
        "df = pd.read_csv('/content/Data.csv')"
      ],
      "execution_count": 3,
      "outputs": []
    },
    {
      "cell_type": "markdown",
      "metadata": {
        "id": "V30XPalbOe70"
      },
      "source": [
        "**Check out the data using info(), describe() and others to get a look at your data**"
      ]
    },
    {
      "cell_type": "code",
      "metadata": {
        "id": "8_WbVRsxO3wb",
        "colab": {
          "base_uri": "https://localhost:8080/",
          "height": 224
        },
        "outputId": "1f8dc091-d5a9-4b05-961e-24b719898e03"
      },
      "source": [
        "df.head()"
      ],
      "execution_count": null,
      "outputs": [
        {
          "output_type": "execute_result",
          "data": {
            "text/html": [
              "<div>\n",
              "<style scoped>\n",
              "    .dataframe tbody tr th:only-of-type {\n",
              "        vertical-align: middle;\n",
              "    }\n",
              "\n",
              "    .dataframe tbody tr th {\n",
              "        vertical-align: top;\n",
              "    }\n",
              "\n",
              "    .dataframe thead th {\n",
              "        text-align: right;\n",
              "    }\n",
              "</style>\n",
              "<table border=\"1\" class=\"dataframe\">\n",
              "  <thead>\n",
              "    <tr style=\"text-align: right;\">\n",
              "      <th></th>\n",
              "      <th>Id</th>\n",
              "      <th>Income</th>\n",
              "      <th>Age</th>\n",
              "      <th>Experience</th>\n",
              "      <th>Married/Single</th>\n",
              "      <th>House_Ownership</th>\n",
              "      <th>Car_Ownership</th>\n",
              "      <th>Profession</th>\n",
              "      <th>CITY</th>\n",
              "      <th>STATE</th>\n",
              "      <th>CURRENT_JOB_YRS</th>\n",
              "      <th>CURRENT_HOUSE_YRS</th>\n",
              "      <th>Risk_Flag</th>\n",
              "    </tr>\n",
              "  </thead>\n",
              "  <tbody>\n",
              "    <tr>\n",
              "      <th>0</th>\n",
              "      <td>1</td>\n",
              "      <td>1303834</td>\n",
              "      <td>23</td>\n",
              "      <td>3</td>\n",
              "      <td>single</td>\n",
              "      <td>rented</td>\n",
              "      <td>no</td>\n",
              "      <td>Mechanical_engineer</td>\n",
              "      <td>Rewa</td>\n",
              "      <td>Madhya_Pradesh</td>\n",
              "      <td>3</td>\n",
              "      <td>13</td>\n",
              "      <td>0</td>\n",
              "    </tr>\n",
              "    <tr>\n",
              "      <th>1</th>\n",
              "      <td>2</td>\n",
              "      <td>7574516</td>\n",
              "      <td>40</td>\n",
              "      <td>10</td>\n",
              "      <td>single</td>\n",
              "      <td>rented</td>\n",
              "      <td>no</td>\n",
              "      <td>Software_Developer</td>\n",
              "      <td>Parbhani</td>\n",
              "      <td>Maharashtra</td>\n",
              "      <td>9</td>\n",
              "      <td>13</td>\n",
              "      <td>0</td>\n",
              "    </tr>\n",
              "    <tr>\n",
              "      <th>2</th>\n",
              "      <td>3</td>\n",
              "      <td>3991815</td>\n",
              "      <td>66</td>\n",
              "      <td>4</td>\n",
              "      <td>married</td>\n",
              "      <td>rented</td>\n",
              "      <td>no</td>\n",
              "      <td>Technical_writer</td>\n",
              "      <td>Alappuzha</td>\n",
              "      <td>Kerala</td>\n",
              "      <td>4</td>\n",
              "      <td>10</td>\n",
              "      <td>0</td>\n",
              "    </tr>\n",
              "    <tr>\n",
              "      <th>3</th>\n",
              "      <td>4</td>\n",
              "      <td>6256451</td>\n",
              "      <td>41</td>\n",
              "      <td>2</td>\n",
              "      <td>single</td>\n",
              "      <td>rented</td>\n",
              "      <td>yes</td>\n",
              "      <td>Software_Developer</td>\n",
              "      <td>Bhubaneswar</td>\n",
              "      <td>Odisha</td>\n",
              "      <td>2</td>\n",
              "      <td>12</td>\n",
              "      <td>1</td>\n",
              "    </tr>\n",
              "    <tr>\n",
              "      <th>4</th>\n",
              "      <td>5</td>\n",
              "      <td>5768871</td>\n",
              "      <td>47</td>\n",
              "      <td>11</td>\n",
              "      <td>single</td>\n",
              "      <td>rented</td>\n",
              "      <td>no</td>\n",
              "      <td>Civil_servant</td>\n",
              "      <td>Tiruchirappalli[10]</td>\n",
              "      <td>Tamil_Nadu</td>\n",
              "      <td>3</td>\n",
              "      <td>14</td>\n",
              "      <td>1</td>\n",
              "    </tr>\n",
              "  </tbody>\n",
              "</table>\n",
              "</div>"
            ],
            "text/plain": [
              "   Id   Income  Age  ...  CURRENT_JOB_YRS CURRENT_HOUSE_YRS Risk_Flag\n",
              "0   1  1303834   23  ...                3                13         0\n",
              "1   2  7574516   40  ...                9                13         0\n",
              "2   3  3991815   66  ...                4                10         0\n",
              "3   4  6256451   41  ...                2                12         1\n",
              "4   5  5768871   47  ...                3                14         1\n",
              "\n",
              "[5 rows x 13 columns]"
            ]
          },
          "metadata": {},
          "execution_count": 4
        }
      ]
    },
    {
      "cell_type": "code",
      "metadata": {
        "id": "_ywCEfG3O41L",
        "colab": {
          "base_uri": "https://localhost:8080/"
        },
        "outputId": "11493f51-ac3a-417e-ba35-f50449c75450"
      },
      "source": [
        "df.shape"
      ],
      "execution_count": null,
      "outputs": [
        {
          "output_type": "execute_result",
          "data": {
            "text/plain": [
              "(252000, 13)"
            ]
          },
          "metadata": {},
          "execution_count": 8
        }
      ]
    },
    {
      "cell_type": "code",
      "metadata": {
        "id": "PDTeCT0fO5C_",
        "colab": {
          "base_uri": "https://localhost:8080/"
        },
        "outputId": "116aed1e-5bf5-42b8-c092-fcf4f0abbc50"
      },
      "source": [
        "df.info()"
      ],
      "execution_count": null,
      "outputs": [
        {
          "output_type": "stream",
          "name": "stdout",
          "text": [
            "<class 'pandas.core.frame.DataFrame'>\n",
            "RangeIndex: 252000 entries, 0 to 251999\n",
            "Data columns (total 13 columns):\n",
            " #   Column             Non-Null Count   Dtype \n",
            "---  ------             --------------   ----- \n",
            " 0   Id                 252000 non-null  int64 \n",
            " 1   Income             252000 non-null  int64 \n",
            " 2   Age                252000 non-null  int64 \n",
            " 3   Experience         252000 non-null  int64 \n",
            " 4   Married/Single     252000 non-null  object\n",
            " 5   House_Ownership    252000 non-null  object\n",
            " 6   Car_Ownership      252000 non-null  object\n",
            " 7   Profession         252000 non-null  object\n",
            " 8   CITY               252000 non-null  object\n",
            " 9   STATE              252000 non-null  object\n",
            " 10  CURRENT_JOB_YRS    252000 non-null  int64 \n",
            " 11  CURRENT_HOUSE_YRS  252000 non-null  int64 \n",
            " 12  Risk_Flag          252000 non-null  int64 \n",
            "dtypes: int64(7), object(6)\n",
            "memory usage: 25.0+ MB\n"
          ]
        }
      ]
    },
    {
      "cell_type": "code",
      "metadata": {
        "colab": {
          "base_uri": "https://localhost:8080/",
          "height": 297
        },
        "id": "Yr3D1Q3EZGXt",
        "outputId": "84262d2c-978a-4a1c-9a27-3775a371018b"
      },
      "source": [
        "df.describe()"
      ],
      "execution_count": null,
      "outputs": [
        {
          "output_type": "execute_result",
          "data": {
            "text/html": [
              "<div>\n",
              "<style scoped>\n",
              "    .dataframe tbody tr th:only-of-type {\n",
              "        vertical-align: middle;\n",
              "    }\n",
              "\n",
              "    .dataframe tbody tr th {\n",
              "        vertical-align: top;\n",
              "    }\n",
              "\n",
              "    .dataframe thead th {\n",
              "        text-align: right;\n",
              "    }\n",
              "</style>\n",
              "<table border=\"1\" class=\"dataframe\">\n",
              "  <thead>\n",
              "    <tr style=\"text-align: right;\">\n",
              "      <th></th>\n",
              "      <th>Id</th>\n",
              "      <th>Income</th>\n",
              "      <th>Age</th>\n",
              "      <th>Experience</th>\n",
              "      <th>CURRENT_JOB_YRS</th>\n",
              "      <th>CURRENT_HOUSE_YRS</th>\n",
              "      <th>Risk_Flag</th>\n",
              "    </tr>\n",
              "  </thead>\n",
              "  <tbody>\n",
              "    <tr>\n",
              "      <th>count</th>\n",
              "      <td>252000.000000</td>\n",
              "      <td>2.520000e+05</td>\n",
              "      <td>252000.000000</td>\n",
              "      <td>252000.000000</td>\n",
              "      <td>252000.000000</td>\n",
              "      <td>252000.000000</td>\n",
              "      <td>252000.000000</td>\n",
              "    </tr>\n",
              "    <tr>\n",
              "      <th>mean</th>\n",
              "      <td>126000.500000</td>\n",
              "      <td>4.997117e+06</td>\n",
              "      <td>49.954071</td>\n",
              "      <td>10.084437</td>\n",
              "      <td>6.333877</td>\n",
              "      <td>11.997794</td>\n",
              "      <td>0.123000</td>\n",
              "    </tr>\n",
              "    <tr>\n",
              "      <th>std</th>\n",
              "      <td>72746.278255</td>\n",
              "      <td>2.878311e+06</td>\n",
              "      <td>17.063855</td>\n",
              "      <td>6.002590</td>\n",
              "      <td>3.647053</td>\n",
              "      <td>1.399037</td>\n",
              "      <td>0.328438</td>\n",
              "    </tr>\n",
              "    <tr>\n",
              "      <th>min</th>\n",
              "      <td>1.000000</td>\n",
              "      <td>1.031000e+04</td>\n",
              "      <td>21.000000</td>\n",
              "      <td>0.000000</td>\n",
              "      <td>0.000000</td>\n",
              "      <td>10.000000</td>\n",
              "      <td>0.000000</td>\n",
              "    </tr>\n",
              "    <tr>\n",
              "      <th>25%</th>\n",
              "      <td>63000.750000</td>\n",
              "      <td>2.503015e+06</td>\n",
              "      <td>35.000000</td>\n",
              "      <td>5.000000</td>\n",
              "      <td>3.000000</td>\n",
              "      <td>11.000000</td>\n",
              "      <td>0.000000</td>\n",
              "    </tr>\n",
              "    <tr>\n",
              "      <th>50%</th>\n",
              "      <td>126000.500000</td>\n",
              "      <td>5.000694e+06</td>\n",
              "      <td>50.000000</td>\n",
              "      <td>10.000000</td>\n",
              "      <td>6.000000</td>\n",
              "      <td>12.000000</td>\n",
              "      <td>0.000000</td>\n",
              "    </tr>\n",
              "    <tr>\n",
              "      <th>75%</th>\n",
              "      <td>189000.250000</td>\n",
              "      <td>7.477502e+06</td>\n",
              "      <td>65.000000</td>\n",
              "      <td>15.000000</td>\n",
              "      <td>9.000000</td>\n",
              "      <td>13.000000</td>\n",
              "      <td>0.000000</td>\n",
              "    </tr>\n",
              "    <tr>\n",
              "      <th>max</th>\n",
              "      <td>252000.000000</td>\n",
              "      <td>9.999938e+06</td>\n",
              "      <td>79.000000</td>\n",
              "      <td>20.000000</td>\n",
              "      <td>14.000000</td>\n",
              "      <td>14.000000</td>\n",
              "      <td>1.000000</td>\n",
              "    </tr>\n",
              "  </tbody>\n",
              "</table>\n",
              "</div>"
            ],
            "text/plain": [
              "                  Id        Income  ...  CURRENT_HOUSE_YRS      Risk_Flag\n",
              "count  252000.000000  2.520000e+05  ...      252000.000000  252000.000000\n",
              "mean   126000.500000  4.997117e+06  ...          11.997794       0.123000\n",
              "std     72746.278255  2.878311e+06  ...           1.399037       0.328438\n",
              "min         1.000000  1.031000e+04  ...          10.000000       0.000000\n",
              "25%     63000.750000  2.503015e+06  ...          11.000000       0.000000\n",
              "50%    126000.500000  5.000694e+06  ...          12.000000       0.000000\n",
              "75%    189000.250000  7.477502e+06  ...          13.000000       0.000000\n",
              "max    252000.000000  9.999938e+06  ...          14.000000       1.000000\n",
              "\n",
              "[8 rows x 7 columns]"
            ]
          },
          "metadata": {},
          "execution_count": 11
        }
      ]
    },
    {
      "cell_type": "markdown",
      "metadata": {
        "id": "4nag29q7ZRRB"
      },
      "source": [
        "##Exploratory Data Analysis"
      ]
    },
    {
      "cell_type": "markdown",
      "metadata": {
        "id": "Y5WynjiqZZJ2"
      },
      "source": [
        "Let's do some exploratory data analysis, we'll use seaborn and matplotlib built in plotting capabilities. Feel free to use whatever library you want to use."
      ]
    },
    {
      "cell_type": "code",
      "metadata": {
        "colab": {
          "base_uri": "https://localhost:8080/",
          "height": 279
        },
        "id": "3hJ99wSVCN6Z",
        "outputId": "b1917cba-5765-4323-eb6d-d28575712593"
      },
      "source": [
        "ax = sns.countplot(x=\"Married/Single\", data=data)\n"
      ],
      "execution_count": null,
      "outputs": [
        {
          "output_type": "display_data",
          "data": {
            "image/png": "[encoded data removed]",
            "text/plain": [
              "<Figure size 432x288 with 1 Axes>"
            ]
          },
          "metadata": {
            "needs_background": "light"
          }
        }
      ]
    },
    {
      "cell_type": "code",
      "metadata": {
        "colab": {
          "base_uri": "https://localhost:8080/",
          "height": 281
        },
        "id": "FpskPcTA7_Bl",
        "outputId": "27c02d92-a6e8-4fcb-9a5f-e091faa6a359"
      },
      "source": [
        "ax = sns.countplot(x=\"House_Ownership\", data=data)\n"
      ],
      "execution_count": null,
      "outputs": [
        {
          "output_type": "display_data",
          "data": {
            "image/png": "[encoded data removed]",
            "text/plain": [
              "<Figure size 432x288 with 1 Axes>"
            ]
          },
          "metadata": {
            "needs_background": "light"
          }
        }
      ]
    },
    {
      "cell_type": "code",
      "metadata": {
        "colab": {
          "base_uri": "https://localhost:8080/",
          "height": 560
        },
        "id": "6Ci3Wnq3OuQY",
        "outputId": "7092b4d3-734d-4f2e-ec72-9fd01b4b07ef"
      },
      "source": [
        "fig, ax = plt.subplots(figsize=(20, 10))  # a figure with a single Axes\n",
        "sns.countplot(y=\"Profession\", data=data)\n",
        "ax.set_title('Value Counts', fontsize=20)\n",
        "plt.show()"
      ],
      "execution_count": null,
      "outputs": [
        {
          "output_type": "display_data",
          "data": {
            "image/png": "[encoded data removed]",
            "text/plain": [
              "<Figure size 1440x720 with 1 Axes>"
            ]
          },
          "metadata": {
            "needs_background": "light"
          }
        }
      ]
    },
    {
      "cell_type": "code",
      "metadata": {
        "colab": {
          "base_uri": "https://localhost:8080/"
        },
        "id": "JqdfcnrNok6o",
        "outputId": "ff7cf42d-0227-4aee-8d34-067b11dd5b02"
      },
      "source": [
        "data.STATE.value_counts()"
      ],
      "execution_count": null,
      "outputs": [
        {
          "output_type": "execute_result",
          "data": {
            "text/plain": [
              "Uttar_Pradesh        28400\n",
              "Maharashtra          25562\n",
              "Andhra_Pradesh       25297\n",
              "West_Bengal          23483\n",
              "Bihar                19780\n",
              "Tamil_Nadu           16537\n",
              "Madhya_Pradesh       14122\n",
              "Karnataka            11855\n",
              "Gujarat              11408\n",
              "Rajasthan             9174\n",
              "Jharkhand             8965\n",
              "Haryana               7890\n",
              "Telangana             7524\n",
              "Assam                 7062\n",
              "Kerala                5805\n",
              "Delhi                 5490\n",
              "Punjab                4720\n",
              "Odisha                4658\n",
              "Chhattisgarh          3834\n",
              "Uttarakhand           1874\n",
              "Jammu_and_Kashmir     1780\n",
              "Puducherry            1433\n",
              "Manipur                849\n",
              "Mizoram                849\n",
              "Himachal_Pradesh       833\n",
              "Tripura                809\n",
              "Uttar_Pradesh[5]       743\n",
              "Chandigarh             656\n",
              "Sikkim                 608\n",
              "Name: STATE, dtype: int64"
            ]
          },
          "metadata": {},
          "execution_count": 12
        }
      ]
    },
    {
      "cell_type": "code",
      "metadata": {
        "colab": {
          "base_uri": "https://localhost:8080/",
          "height": 204
        },
        "id": "jKdyASbXZJAE",
        "outputId": "4c901696-ed96-4021-c69e-b1d5fc651f80"
      },
      "source": [
        "df_categories = df.select_dtypes(include=['object'])\n",
        "df_categories.head()"
      ],
      "execution_count": null,
      "outputs": [
        {
          "output_type": "execute_result",
          "data": {
            "text/html": [
              "<div>\n",
              "<style scoped>\n",
              "    .dataframe tbody tr th:only-of-type {\n",
              "        vertical-align: middle;\n",
              "    }\n",
              "\n",
              "    .dataframe tbody tr th {\n",
              "        vertical-align: top;\n",
              "    }\n",
              "\n",
              "    .dataframe thead th {\n",
              "        text-align: right;\n",
              "    }\n",
              "</style>\n",
              "<table border=\"1\" class=\"dataframe\">\n",
              "  <thead>\n",
              "    <tr style=\"text-align: right;\">\n",
              "      <th></th>\n",
              "      <th>Married/Single</th>\n",
              "      <th>House_Ownership</th>\n",
              "      <th>Car_Ownership</th>\n",
              "      <th>Profession</th>\n",
              "      <th>CITY</th>\n",
              "      <th>STATE</th>\n",
              "    </tr>\n",
              "  </thead>\n",
              "  <tbody>\n",
              "    <tr>\n",
              "      <th>0</th>\n",
              "      <td>single</td>\n",
              "      <td>rented</td>\n",
              "      <td>no</td>\n",
              "      <td>Mechanical_engineer</td>\n",
              "      <td>Rewa</td>\n",
              "      <td>Madhya_Pradesh</td>\n",
              "    </tr>\n",
              "    <tr>\n",
              "      <th>1</th>\n",
              "      <td>single</td>\n",
              "      <td>rented</td>\n",
              "      <td>no</td>\n",
              "      <td>Software_Developer</td>\n",
              "      <td>Parbhani</td>\n",
              "      <td>Maharashtra</td>\n",
              "    </tr>\n",
              "    <tr>\n",
              "      <th>2</th>\n",
              "      <td>married</td>\n",
              "      <td>rented</td>\n",
              "      <td>no</td>\n",
              "      <td>Technical_writer</td>\n",
              "      <td>Alappuzha</td>\n",
              "      <td>Kerala</td>\n",
              "    </tr>\n",
              "    <tr>\n",
              "      <th>3</th>\n",
              "      <td>single</td>\n",
              "      <td>rented</td>\n",
              "      <td>yes</td>\n",
              "      <td>Software_Developer</td>\n",
              "      <td>Bhubaneswar</td>\n",
              "      <td>Odisha</td>\n",
              "    </tr>\n",
              "    <tr>\n",
              "      <th>4</th>\n",
              "      <td>single</td>\n",
              "      <td>rented</td>\n",
              "      <td>no</td>\n",
              "      <td>Civil_servant</td>\n",
              "      <td>Tiruchirappalli[10]</td>\n",
              "      <td>Tamil_Nadu</td>\n",
              "    </tr>\n",
              "  </tbody>\n",
              "</table>\n",
              "</div>"
            ],
            "text/plain": [
              "  Married/Single House_Ownership  ...                 CITY           STATE\n",
              "0         single          rented  ...                 Rewa  Madhya_Pradesh\n",
              "1         single          rented  ...             Parbhani     Maharashtra\n",
              "2        married          rented  ...            Alappuzha          Kerala\n",
              "3         single          rented  ...          Bhubaneswar          Odisha\n",
              "4         single          rented  ...  Tiruchirappalli[10]      Tamil_Nadu\n",
              "\n",
              "[5 rows x 6 columns]"
            ]
          },
          "metadata": {},
          "execution_count": 13
        }
      ]
    },
    {
      "cell_type": "code",
      "metadata": {
        "colab": {
          "base_uri": "https://localhost:8080/"
        },
        "id": "MbuOA3BtI7hQ",
        "outputId": "d09f0492-7e30-43a4-a801-f5eda0696c09"
      },
      "source": [
        "#tolistallnumericaldatatypes\n",
        "list(set(df.dtypes.tolist()))"
      ],
      "execution_count": null,
      "outputs": [
        {
          "output_type": "execute_result",
          "data": {
            "text/plain": [
              "[dtype('float64'), dtype('int64'), dtype('O')]"
            ]
          },
          "metadata": {},
          "execution_count": 14
        }
      ]
    },
    {
      "cell_type": "code",
      "metadata": {
        "colab": {
          "base_uri": "https://localhost:8080/",
          "height": 204
        },
        "id": "avKBElDHcU-d",
        "outputId": "59d52a51-cf03-4955-9bd8-42c6dab1f3d4"
      },
      "source": [
        "df_num = df.select_dtypes(include = ['int64', 'float64'])\n",
        "df_num.head()"
      ],
      "execution_count": null,
      "outputs": [
        {
          "output_type": "execute_result",
          "data": {
            "text/html": [
              "<div>\n",
              "<style scoped>\n",
              "    .dataframe tbody tr th:only-of-type {\n",
              "        vertical-align: middle;\n",
              "    }\n",
              "\n",
              "    .dataframe tbody tr th {\n",
              "        vertical-align: top;\n",
              "    }\n",
              "\n",
              "    .dataframe thead th {\n",
              "        text-align: right;\n",
              "    }\n",
              "</style>\n",
              "<table border=\"1\" class=\"dataframe\">\n",
              "  <thead>\n",
              "    <tr style=\"text-align: right;\">\n",
              "      <th></th>\n",
              "      <th>Id</th>\n",
              "      <th>Income</th>\n",
              "      <th>Age</th>\n",
              "      <th>Experience</th>\n",
              "      <th>CURRENT_JOB_YRS</th>\n",
              "      <th>CURRENT_HOUSE_YRS</th>\n",
              "      <th>Risk_Flag</th>\n",
              "    </tr>\n",
              "  </thead>\n",
              "  <tbody>\n",
              "    <tr>\n",
              "      <th>0</th>\n",
              "      <td>1</td>\n",
              "      <td>1303834</td>\n",
              "      <td>23</td>\n",
              "      <td>3</td>\n",
              "      <td>3.0</td>\n",
              "      <td>13.0</td>\n",
              "      <td>0.0</td>\n",
              "    </tr>\n",
              "    <tr>\n",
              "      <th>1</th>\n",
              "      <td>2</td>\n",
              "      <td>7574516</td>\n",
              "      <td>40</td>\n",
              "      <td>10</td>\n",
              "      <td>9.0</td>\n",
              "      <td>13.0</td>\n",
              "      <td>0.0</td>\n",
              "    </tr>\n",
              "    <tr>\n",
              "      <th>2</th>\n",
              "      <td>3</td>\n",
              "      <td>3991815</td>\n",
              "      <td>66</td>\n",
              "      <td>4</td>\n",
              "      <td>4.0</td>\n",
              "      <td>10.0</td>\n",
              "      <td>0.0</td>\n",
              "    </tr>\n",
              "    <tr>\n",
              "      <th>3</th>\n",
              "      <td>4</td>\n",
              "      <td>6256451</td>\n",
              "      <td>41</td>\n",
              "      <td>2</td>\n",
              "      <td>2.0</td>\n",
              "      <td>12.0</td>\n",
              "      <td>1.0</td>\n",
              "    </tr>\n",
              "    <tr>\n",
              "      <th>4</th>\n",
              "      <td>5</td>\n",
              "      <td>5768871</td>\n",
              "      <td>47</td>\n",
              "      <td>11</td>\n",
              "      <td>3.0</td>\n",
              "      <td>14.0</td>\n",
              "      <td>1.0</td>\n",
              "    </tr>\n",
              "  </tbody>\n",
              "</table>\n",
              "</div>"
            ],
            "text/plain": [
              "   Id   Income  Age  Experience  CURRENT_JOB_YRS  CURRENT_HOUSE_YRS  Risk_Flag\n",
              "0   1  1303834   23           3              3.0               13.0        0.0\n",
              "1   2  7574516   40          10              9.0               13.0        0.0\n",
              "2   3  3991815   66           4              4.0               10.0        0.0\n",
              "3   4  6256451   41           2              2.0               12.0        1.0\n",
              "4   5  5768871   47          11              3.0               14.0        1.0"
            ]
          },
          "metadata": {},
          "execution_count": 15
        }
      ]
    },
    {
      "cell_type": "code",
      "metadata": {
        "colab": {
          "base_uri": "https://localhost:8080/",
          "height": 173
        },
        "id": "XoVHQoHTG2w_",
        "outputId": "0182a2bd-e424-4c6d-f208-ec7e84939e8c"
      },
      "source": [
        "df.groupby('Married/Single').agg({'Income':['count','mean','max','min']})"
      ],
      "execution_count": null,
      "outputs": [
        {
          "output_type": "execute_result",
          "data": {
            "text/html": [
              "<div>\n",
              "<style scoped>\n",
              "    .dataframe tbody tr th:only-of-type {\n",
              "        vertical-align: middle;\n",
              "    }\n",
              "\n",
              "    .dataframe tbody tr th {\n",
              "        vertical-align: top;\n",
              "    }\n",
              "\n",
              "    .dataframe thead tr th {\n",
              "        text-align: left;\n",
              "    }\n",
              "\n",
              "    .dataframe thead tr:last-of-type th {\n",
              "        text-align: right;\n",
              "    }\n",
              "</style>\n",
              "<table border=\"1\" class=\"dataframe\">\n",
              "  <thead>\n",
              "    <tr>\n",
              "      <th></th>\n",
              "      <th colspan=\"4\" halign=\"left\">Income</th>\n",
              "    </tr>\n",
              "    <tr>\n",
              "      <th></th>\n",
              "      <th>count</th>\n",
              "      <th>mean</th>\n",
              "      <th>max</th>\n",
              "      <th>min</th>\n",
              "    </tr>\n",
              "    <tr>\n",
              "      <th>Married/Single</th>\n",
              "      <th></th>\n",
              "      <th></th>\n",
              "      <th></th>\n",
              "      <th></th>\n",
              "    </tr>\n",
              "  </thead>\n",
              "  <tbody>\n",
              "    <tr>\n",
              "      <th>married</th>\n",
              "      <td>25728</td>\n",
              "      <td>4.974221e+06</td>\n",
              "      <td>9994061</td>\n",
              "      <td>11550</td>\n",
              "    </tr>\n",
              "    <tr>\n",
              "      <th>single</th>\n",
              "      <td>226272</td>\n",
              "      <td>4.999720e+06</td>\n",
              "      <td>9999938</td>\n",
              "      <td>10310</td>\n",
              "    </tr>\n",
              "  </tbody>\n",
              "</table>\n",
              "</div>"
            ],
            "text/plain": [
              "                Income                              \n",
              "                 count          mean      max    min\n",
              "Married/Single                                      \n",
              "married          25728  4.974221e+06  9994061  11550\n",
              "single          226272  4.999720e+06  9999938  10310"
            ]
          },
          "metadata": {},
          "execution_count": 111
        }
      ]
    },
    {
      "cell_type": "code",
      "metadata": {
        "colab": {
          "base_uri": "https://localhost:8080/",
          "height": 731
        },
        "id": "fIYqGh-xDGTe",
        "outputId": "60689af6-a04e-4d72-c0f4-fa235a0a2fe1"
      },
      "source": [
        "df.groupby(['Experience']).Income.agg(['mean', min, max]).sort_values(by='mean',ascending=False)"
      ],
      "execution_count": null,
      "outputs": [
        {
          "output_type": "execute_result",
          "data": {
            "text/html": [
              "<div>\n",
              "<style scoped>\n",
              "    .dataframe tbody tr th:only-of-type {\n",
              "        vertical-align: middle;\n",
              "    }\n",
              "\n",
              "    .dataframe tbody tr th {\n",
              "        vertical-align: top;\n",
              "    }\n",
              "\n",
              "    .dataframe thead th {\n",
              "        text-align: right;\n",
              "    }\n",
              "</style>\n",
              "<table border=\"1\" class=\"dataframe\">\n",
              "  <thead>\n",
              "    <tr style=\"text-align: right;\">\n",
              "      <th></th>\n",
              "      <th>mean</th>\n",
              "      <th>min</th>\n",
              "      <th>max</th>\n",
              "    </tr>\n",
              "    <tr>\n",
              "      <th>Experience</th>\n",
              "      <th></th>\n",
              "      <th></th>\n",
              "      <th></th>\n",
              "    </tr>\n",
              "  </thead>\n",
              "  <tbody>\n",
              "    <tr>\n",
              "      <th>12</th>\n",
              "      <td>5.282886e+06</td>\n",
              "      <td>12902</td>\n",
              "      <td>9993649</td>\n",
              "    </tr>\n",
              "    <tr>\n",
              "      <th>13</th>\n",
              "      <td>5.176109e+06</td>\n",
              "      <td>13220</td>\n",
              "      <td>9998070</td>\n",
              "    </tr>\n",
              "    <tr>\n",
              "      <th>17</th>\n",
              "      <td>5.150731e+06</td>\n",
              "      <td>21995</td>\n",
              "      <td>9995445</td>\n",
              "    </tr>\n",
              "    <tr>\n",
              "      <th>9</th>\n",
              "      <td>5.142933e+06</td>\n",
              "      <td>16212</td>\n",
              "      <td>9996861</td>\n",
              "    </tr>\n",
              "    <tr>\n",
              "      <th>15</th>\n",
              "      <td>5.090523e+06</td>\n",
              "      <td>29519</td>\n",
              "      <td>9973420</td>\n",
              "    </tr>\n",
              "    <tr>\n",
              "      <th>2</th>\n",
              "      <td>5.070527e+06</td>\n",
              "      <td>13357</td>\n",
              "      <td>9979070</td>\n",
              "    </tr>\n",
              "    <tr>\n",
              "      <th>19</th>\n",
              "      <td>5.056668e+06</td>\n",
              "      <td>11114</td>\n",
              "      <td>9999938</td>\n",
              "    </tr>\n",
              "    <tr>\n",
              "      <th>4</th>\n",
              "      <td>5.039216e+06</td>\n",
              "      <td>12841</td>\n",
              "      <td>9994882</td>\n",
              "    </tr>\n",
              "    <tr>\n",
              "      <th>3</th>\n",
              "      <td>5.027427e+06</td>\n",
              "      <td>13792</td>\n",
              "      <td>9992141</td>\n",
              "    </tr>\n",
              "    <tr>\n",
              "      <th>0</th>\n",
              "      <td>5.005593e+06</td>\n",
              "      <td>11735</td>\n",
              "      <td>9999180</td>\n",
              "    </tr>\n",
              "    <tr>\n",
              "      <th>14</th>\n",
              "      <td>5.004082e+06</td>\n",
              "      <td>17496</td>\n",
              "      <td>9994501</td>\n",
              "    </tr>\n",
              "    <tr>\n",
              "      <th>6</th>\n",
              "      <td>5.000771e+06</td>\n",
              "      <td>11799</td>\n",
              "      <td>9994518</td>\n",
              "    </tr>\n",
              "    <tr>\n",
              "      <th>18</th>\n",
              "      <td>4.965754e+06</td>\n",
              "      <td>11483</td>\n",
              "      <td>9994061</td>\n",
              "    </tr>\n",
              "    <tr>\n",
              "      <th>5</th>\n",
              "      <td>4.928934e+06</td>\n",
              "      <td>12766</td>\n",
              "      <td>9984718</td>\n",
              "    </tr>\n",
              "    <tr>\n",
              "      <th>16</th>\n",
              "      <td>4.894384e+06</td>\n",
              "      <td>14936</td>\n",
              "      <td>9989145</td>\n",
              "    </tr>\n",
              "    <tr>\n",
              "      <th>20</th>\n",
              "      <td>4.868874e+06</td>\n",
              "      <td>10310</td>\n",
              "      <td>9996969</td>\n",
              "    </tr>\n",
              "    <tr>\n",
              "      <th>10</th>\n",
              "      <td>4.868093e+06</td>\n",
              "      <td>16045</td>\n",
              "      <td>9996946</td>\n",
              "    </tr>\n",
              "    <tr>\n",
              "      <th>11</th>\n",
              "      <td>4.856583e+06</td>\n",
              "      <td>14867</td>\n",
              "      <td>9999400</td>\n",
              "    </tr>\n",
              "    <tr>\n",
              "      <th>1</th>\n",
              "      <td>4.849857e+06</td>\n",
              "      <td>10675</td>\n",
              "      <td>9993041</td>\n",
              "    </tr>\n",
              "    <tr>\n",
              "      <th>8</th>\n",
              "      <td>4.810273e+06</td>\n",
              "      <td>11854</td>\n",
              "      <td>9998280</td>\n",
              "    </tr>\n",
              "    <tr>\n",
              "      <th>7</th>\n",
              "      <td>4.794962e+06</td>\n",
              "      <td>14339</td>\n",
              "      <td>9992692</td>\n",
              "    </tr>\n",
              "  </tbody>\n",
              "</table>\n",
              "</div>"
            ],
            "text/plain": [
              "                    mean    min      max\n",
              "Experience                              \n",
              "12          5.282886e+06  12902  9993649\n",
              "13          5.176109e+06  13220  9998070\n",
              "17          5.150731e+06  21995  9995445\n",
              "9           5.142933e+06  16212  9996861\n",
              "15          5.090523e+06  29519  9973420\n",
              "2           5.070527e+06  13357  9979070\n",
              "19          5.056668e+06  11114  9999938\n",
              "4           5.039216e+06  12841  9994882\n",
              "3           5.027427e+06  13792  9992141\n",
              "0           5.005593e+06  11735  9999180\n",
              "14          5.004082e+06  17496  9994501\n",
              "6           5.000771e+06  11799  9994518\n",
              "18          4.965754e+06  11483  9994061\n",
              "5           4.928934e+06  12766  9984718\n",
              "16          4.894384e+06  14936  9989145\n",
              "20          4.868874e+06  10310  9996969\n",
              "10          4.868093e+06  16045  9996946\n",
              "11          4.856583e+06  14867  9999400\n",
              "1           4.849857e+06  10675  9993041\n",
              "8           4.810273e+06  11854  9998280\n",
              "7           4.794962e+06  14339  9992692"
            ]
          },
          "metadata": {},
          "execution_count": 107
        }
      ]
    },
    {
      "cell_type": "code",
      "metadata": {
        "colab": {
          "base_uri": "https://localhost:8080/",
          "height": 1000
        },
        "id": "86m2BYPpHsCl",
        "outputId": "bfcd46b8-068f-497a-d056-0e60b308249a"
      },
      "source": [
        "Clue = df.groupby(['Profession']).Income.agg(['mean', max, min]).sort_values(by='mean',ascending=False)\n",
        "Clue"
      ],
      "execution_count": null,
      "outputs": [
        {
          "output_type": "execute_result",
          "data": {
            "text/html": [
              "<div>\n",
              "<style scoped>\n",
              "    .dataframe tbody tr th:only-of-type {\n",
              "        vertical-align: middle;\n",
              "    }\n",
              "\n",
              "    .dataframe tbody tr th {\n",
              "        vertical-align: top;\n",
              "    }\n",
              "\n",
              "    .dataframe thead th {\n",
              "        text-align: right;\n",
              "    }\n",
              "</style>\n",
              "<table border=\"1\" class=\"dataframe\">\n",
              "  <thead>\n",
              "    <tr style=\"text-align: right;\">\n",
              "      <th></th>\n",
              "      <th>mean</th>\n",
              "      <th>max</th>\n",
              "      <th>min</th>\n",
              "    </tr>\n",
              "    <tr>\n",
              "      <th>Profession</th>\n",
              "      <th></th>\n",
              "      <th></th>\n",
              "      <th></th>\n",
              "    </tr>\n",
              "  </thead>\n",
              "  <tbody>\n",
              "    <tr>\n",
              "      <th>Petroleum_Engineer</th>\n",
              "      <td>5.443310e+06</td>\n",
              "      <td>9968353</td>\n",
              "      <td>22921</td>\n",
              "    </tr>\n",
              "    <tr>\n",
              "      <th>Psychologist</th>\n",
              "      <td>5.357795e+06</td>\n",
              "      <td>9985964</td>\n",
              "      <td>33224</td>\n",
              "    </tr>\n",
              "    <tr>\n",
              "      <th>Designer</th>\n",
              "      <td>5.336802e+06</td>\n",
              "      <td>9996946</td>\n",
              "      <td>12841</td>\n",
              "    </tr>\n",
              "    <tr>\n",
              "      <th>Scientist</th>\n",
              "      <td>5.282710e+06</td>\n",
              "      <td>9975985</td>\n",
              "      <td>13792</td>\n",
              "    </tr>\n",
              "    <tr>\n",
              "      <th>Surgeon</th>\n",
              "      <td>5.235359e+06</td>\n",
              "      <td>9995445</td>\n",
              "      <td>18215</td>\n",
              "    </tr>\n",
              "    <tr>\n",
              "      <th>Comedian</th>\n",
              "      <td>5.199539e+06</td>\n",
              "      <td>9984983</td>\n",
              "      <td>13429</td>\n",
              "    </tr>\n",
              "    <tr>\n",
              "      <th>Chemical_engineer</th>\n",
              "      <td>5.189805e+06</td>\n",
              "      <td>9984718</td>\n",
              "      <td>26926</td>\n",
              "    </tr>\n",
              "    <tr>\n",
              "      <th>Mechanical_engineer</th>\n",
              "      <td>5.175032e+06</td>\n",
              "      <td>9990505</td>\n",
              "      <td>37057</td>\n",
              "    </tr>\n",
              "    <tr>\n",
              "      <th>Artist</th>\n",
              "      <td>5.164765e+06</td>\n",
              "      <td>9976619</td>\n",
              "      <td>31297</td>\n",
              "    </tr>\n",
              "    <tr>\n",
              "      <th>Financial_Analyst</th>\n",
              "      <td>5.145753e+06</td>\n",
              "      <td>9990776</td>\n",
              "      <td>17660</td>\n",
              "    </tr>\n",
              "    <tr>\n",
              "      <th>Consultant</th>\n",
              "      <td>5.138436e+06</td>\n",
              "      <td>9967854</td>\n",
              "      <td>25161</td>\n",
              "    </tr>\n",
              "    <tr>\n",
              "      <th>Lawyer</th>\n",
              "      <td>5.128131e+06</td>\n",
              "      <td>9976302</td>\n",
              "      <td>28993</td>\n",
              "    </tr>\n",
              "    <tr>\n",
              "      <th>Computer_operator</th>\n",
              "      <td>5.112550e+06</td>\n",
              "      <td>9993961</td>\n",
              "      <td>28070</td>\n",
              "    </tr>\n",
              "    <tr>\n",
              "      <th>Surveyor</th>\n",
              "      <td>5.112352e+06</td>\n",
              "      <td>9994518</td>\n",
              "      <td>11114</td>\n",
              "    </tr>\n",
              "    <tr>\n",
              "      <th>Secretary</th>\n",
              "      <td>5.102880e+06</td>\n",
              "      <td>9998070</td>\n",
              "      <td>72334</td>\n",
              "    </tr>\n",
              "    <tr>\n",
              "      <th>Army_officer</th>\n",
              "      <td>5.094473e+06</td>\n",
              "      <td>9967074</td>\n",
              "      <td>12902</td>\n",
              "    </tr>\n",
              "    <tr>\n",
              "      <th>Aviator</th>\n",
              "      <td>5.074104e+06</td>\n",
              "      <td>9998280</td>\n",
              "      <td>53134</td>\n",
              "    </tr>\n",
              "    <tr>\n",
              "      <th>Fashion_Designer</th>\n",
              "      <td>5.070883e+06</td>\n",
              "      <td>9990182</td>\n",
              "      <td>12766</td>\n",
              "    </tr>\n",
              "    <tr>\n",
              "      <th>Industrial_Engineer</th>\n",
              "      <td>5.060502e+06</td>\n",
              "      <td>9988210</td>\n",
              "      <td>19236</td>\n",
              "    </tr>\n",
              "    <tr>\n",
              "      <th>Firefighter</th>\n",
              "      <td>5.046134e+06</td>\n",
              "      <td>9980725</td>\n",
              "      <td>29380</td>\n",
              "    </tr>\n",
              "    <tr>\n",
              "      <th>Microbiologist</th>\n",
              "      <td>5.035358e+06</td>\n",
              "      <td>9962662</td>\n",
              "      <td>12825</td>\n",
              "    </tr>\n",
              "    <tr>\n",
              "      <th>Statistician</th>\n",
              "      <td>5.028648e+06</td>\n",
              "      <td>9996861</td>\n",
              "      <td>31705</td>\n",
              "    </tr>\n",
              "    <tr>\n",
              "      <th>Librarian</th>\n",
              "      <td>5.007590e+06</td>\n",
              "      <td>9999400</td>\n",
              "      <td>25331</td>\n",
              "    </tr>\n",
              "    <tr>\n",
              "      <th>Architect</th>\n",
              "      <td>5.004079e+06</td>\n",
              "      <td>9984145</td>\n",
              "      <td>11854</td>\n",
              "    </tr>\n",
              "    <tr>\n",
              "      <th>Chartered_Accountant</th>\n",
              "      <td>5.002232e+06</td>\n",
              "      <td>9993403</td>\n",
              "      <td>15613</td>\n",
              "    </tr>\n",
              "    <tr>\n",
              "      <th>Hotel_Manager</th>\n",
              "      <td>4.996878e+06</td>\n",
              "      <td>9992692</td>\n",
              "      <td>17801</td>\n",
              "    </tr>\n",
              "    <tr>\n",
              "      <th>Computer_hardware_engineer</th>\n",
              "      <td>4.989531e+06</td>\n",
              "      <td>9996192</td>\n",
              "      <td>13357</td>\n",
              "    </tr>\n",
              "    <tr>\n",
              "      <th>Technology_specialist</th>\n",
              "      <td>4.985643e+06</td>\n",
              "      <td>9984686</td>\n",
              "      <td>17496</td>\n",
              "    </tr>\n",
              "    <tr>\n",
              "      <th>Biomedical_Engineer</th>\n",
              "      <td>4.982528e+06</td>\n",
              "      <td>9994932</td>\n",
              "      <td>19472</td>\n",
              "    </tr>\n",
              "    <tr>\n",
              "      <th>Technician</th>\n",
              "      <td>4.971492e+06</td>\n",
              "      <td>9982680</td>\n",
              "      <td>16045</td>\n",
              "    </tr>\n",
              "    <tr>\n",
              "      <th>Air_traffic_controller</th>\n",
              "      <td>4.958422e+06</td>\n",
              "      <td>9979373</td>\n",
              "      <td>14339</td>\n",
              "    </tr>\n",
              "    <tr>\n",
              "      <th>Dentist</th>\n",
              "      <td>4.948819e+06</td>\n",
              "      <td>9989145</td>\n",
              "      <td>26499</td>\n",
              "    </tr>\n",
              "    <tr>\n",
              "      <th>Civil_servant</th>\n",
              "      <td>4.947843e+06</td>\n",
              "      <td>9983131</td>\n",
              "      <td>11430</td>\n",
              "    </tr>\n",
              "    <tr>\n",
              "      <th>Technical_writer</th>\n",
              "      <td>4.922266e+06</td>\n",
              "      <td>9980565</td>\n",
              "      <td>11799</td>\n",
              "    </tr>\n",
              "    <tr>\n",
              "      <th>Economist</th>\n",
              "      <td>4.916002e+06</td>\n",
              "      <td>9994882</td>\n",
              "      <td>16890</td>\n",
              "    </tr>\n",
              "    <tr>\n",
              "      <th>Politician</th>\n",
              "      <td>4.913568e+06</td>\n",
              "      <td>9994061</td>\n",
              "      <td>16909</td>\n",
              "    </tr>\n",
              "    <tr>\n",
              "      <th>Graphic_Designer</th>\n",
              "      <td>4.900447e+06</td>\n",
              "      <td>9973420</td>\n",
              "      <td>10675</td>\n",
              "    </tr>\n",
              "    <tr>\n",
              "      <th>Analyst</th>\n",
              "      <td>4.894181e+06</td>\n",
              "      <td>9993798</td>\n",
              "      <td>11550</td>\n",
              "    </tr>\n",
              "    <tr>\n",
              "      <th>Web_designer</th>\n",
              "      <td>4.893095e+06</td>\n",
              "      <td>9980350</td>\n",
              "      <td>21799</td>\n",
              "    </tr>\n",
              "    <tr>\n",
              "      <th>Software_Developer</th>\n",
              "      <td>4.891296e+06</td>\n",
              "      <td>9964816</td>\n",
              "      <td>51528</td>\n",
              "    </tr>\n",
              "    <tr>\n",
              "      <th>Geologist</th>\n",
              "      <td>4.879362e+06</td>\n",
              "      <td>9991298</td>\n",
              "      <td>34955</td>\n",
              "    </tr>\n",
              "    <tr>\n",
              "      <th>Design_Engineer</th>\n",
              "      <td>4.840221e+06</td>\n",
              "      <td>9962923</td>\n",
              "      <td>44761</td>\n",
              "    </tr>\n",
              "    <tr>\n",
              "      <th>Chef</th>\n",
              "      <td>4.839915e+06</td>\n",
              "      <td>9977117</td>\n",
              "      <td>11735</td>\n",
              "    </tr>\n",
              "    <tr>\n",
              "      <th>Engineer</th>\n",
              "      <td>4.814755e+06</td>\n",
              "      <td>9993649</td>\n",
              "      <td>10310</td>\n",
              "    </tr>\n",
              "    <tr>\n",
              "      <th>Physician</th>\n",
              "      <td>4.780384e+06</td>\n",
              "      <td>9987805</td>\n",
              "      <td>12608</td>\n",
              "    </tr>\n",
              "    <tr>\n",
              "      <th>Magistrate</th>\n",
              "      <td>4.769920e+06</td>\n",
              "      <td>9982430</td>\n",
              "      <td>16212</td>\n",
              "    </tr>\n",
              "    <tr>\n",
              "      <th>Civil_engineer</th>\n",
              "      <td>4.755441e+06</td>\n",
              "      <td>9992141</td>\n",
              "      <td>25674</td>\n",
              "    </tr>\n",
              "    <tr>\n",
              "      <th>Official</th>\n",
              "      <td>4.737617e+06</td>\n",
              "      <td>9993041</td>\n",
              "      <td>13629</td>\n",
              "    </tr>\n",
              "    <tr>\n",
              "      <th>Drafter</th>\n",
              "      <td>4.654805e+06</td>\n",
              "      <td>9999180</td>\n",
              "      <td>14936</td>\n",
              "    </tr>\n",
              "    <tr>\n",
              "      <th>Flight_attendant</th>\n",
              "      <td>4.592177e+06</td>\n",
              "      <td>9979070</td>\n",
              "      <td>11695</td>\n",
              "    </tr>\n",
              "    <tr>\n",
              "      <th>Police_officer</th>\n",
              "      <td>4.502916e+06</td>\n",
              "      <td>9999938</td>\n",
              "      <td>13220</td>\n",
              "    </tr>\n",
              "  </tbody>\n",
              "</table>\n",
              "</div>"
            ],
            "text/plain": [
              "                                    mean      max    min\n",
              "Profession                                              \n",
              "Petroleum_Engineer          5.443310e+06  9968353  22921\n",
              "Psychologist                5.357795e+06  9985964  33224\n",
              "Designer                    5.336802e+06  9996946  12841\n",
              "Scientist                   5.282710e+06  9975985  13792\n",
              "Surgeon                     5.235359e+06  9995445  18215\n",
              "Comedian                    5.199539e+06  9984983  13429\n",
              "Chemical_engineer           5.189805e+06  9984718  26926\n",
              "Mechanical_engineer         5.175032e+06  9990505  37057\n",
              "Artist                      5.164765e+06  9976619  31297\n",
              "Financial_Analyst           5.145753e+06  9990776  17660\n",
              "Consultant                  5.138436e+06  9967854  25161\n",
              "Lawyer                      5.128131e+06  9976302  28993\n",
              "Computer_operator           5.112550e+06  9993961  28070\n",
              "Surveyor                    5.112352e+06  9994518  11114\n",
              "Secretary                   5.102880e+06  9998070  72334\n",
              "Army_officer                5.094473e+06  9967074  12902\n",
              "Aviator                     5.074104e+06  9998280  53134\n",
              "Fashion_Designer            5.070883e+06  9990182  12766\n",
              "Industrial_Engineer         5.060502e+06  9988210  19236\n",
              "Firefighter                 5.046134e+06  9980725  29380\n",
              "Microbiologist              5.035358e+06  9962662  12825\n",
              "Statistician                5.028648e+06  9996861  31705\n",
              "Librarian                   5.007590e+06  9999400  25331\n",
              "Architect                   5.004079e+06  9984145  11854\n",
              "Chartered_Accountant        5.002232e+06  9993403  15613\n",
              "Hotel_Manager               4.996878e+06  9992692  17801\n",
              "Computer_hardware_engineer  4.989531e+06  9996192  13357\n",
              "Technology_specialist       4.985643e+06  9984686  17496\n",
              "Biomedical_Engineer         4.982528e+06  9994932  19472\n",
              "Technician                  4.971492e+06  9982680  16045\n",
              "Air_traffic_controller      4.958422e+06  9979373  14339\n",
              "Dentist                     4.948819e+06  9989145  26499\n",
              "Civil_servant               4.947843e+06  9983131  11430\n",
              "Technical_writer            4.922266e+06  9980565  11799\n",
              "Economist                   4.916002e+06  9994882  16890\n",
              "Politician                  4.913568e+06  9994061  16909\n",
              "Graphic_Designer            4.900447e+06  9973420  10675\n",
              "Analyst                     4.894181e+06  9993798  11550\n",
              "Web_designer                4.893095e+06  9980350  21799\n",
              "Software_Developer          4.891296e+06  9964816  51528\n",
              "Geologist                   4.879362e+06  9991298  34955\n",
              "Design_Engineer             4.840221e+06  9962923  44761\n",
              "Chef                        4.839915e+06  9977117  11735\n",
              "Engineer                    4.814755e+06  9993649  10310\n",
              "Physician                   4.780384e+06  9987805  12608\n",
              "Magistrate                  4.769920e+06  9982430  16212\n",
              "Civil_engineer              4.755441e+06  9992141  25674\n",
              "Official                    4.737617e+06  9993041  13629\n",
              "Drafter                     4.654805e+06  9999180  14936\n",
              "Flight_attendant            4.592177e+06  9979070  11695\n",
              "Police_officer              4.502916e+06  9999938  13220"
            ]
          },
          "metadata": {},
          "execution_count": 109
        }
      ]
    },
    {
      "cell_type": "code",
      "metadata": {
        "colab": {
          "base_uri": "https://localhost:8080/",
          "height": 979
        },
        "id": "OilTFE-cJ5es",
        "outputId": "85e2948e-4931-4cbe-fea6-5a316a5fa19d"
      },
      "source": [
        "Clue_2 = df.groupby(['STATE']).Income.agg(['mean', max, min]).sort_values(by='mean',ascending=False)\n",
        "Clue_2"
      ],
      "execution_count": 13,
      "outputs": [
        {
          "output_type": "execute_result",
          "data": {
            "text/html": [
              "<div>\n",
              "<style scoped>\n",
              "    .dataframe tbody tr th:only-of-type {\n",
              "        vertical-align: middle;\n",
              "    }\n",
              "\n",
              "    .dataframe tbody tr th {\n",
              "        vertical-align: top;\n",
              "    }\n",
              "\n",
              "    .dataframe thead th {\n",
              "        text-align: right;\n",
              "    }\n",
              "</style>\n",
              "<table border=\"1\" class=\"dataframe\">\n",
              "  <thead>\n",
              "    <tr style=\"text-align: right;\">\n",
              "      <th></th>\n",
              "      <th>mean</th>\n",
              "      <th>max</th>\n",
              "      <th>min</th>\n",
              "    </tr>\n",
              "    <tr>\n",
              "      <th>STATE</th>\n",
              "      <th></th>\n",
              "      <th></th>\n",
              "      <th></th>\n",
              "    </tr>\n",
              "  </thead>\n",
              "  <tbody>\n",
              "    <tr>\n",
              "      <th>Manipur</th>\n",
              "      <td>6.201936e+06</td>\n",
              "      <td>9605093</td>\n",
              "      <td>373596</td>\n",
              "    </tr>\n",
              "    <tr>\n",
              "      <th>Rajasthan</th>\n",
              "      <td>5.237206e+06</td>\n",
              "      <td>9978110</td>\n",
              "      <td>41719</td>\n",
              "    </tr>\n",
              "    <tr>\n",
              "      <th>Mizoram</th>\n",
              "      <td>5.159259e+06</td>\n",
              "      <td>8915716</td>\n",
              "      <td>340023</td>\n",
              "    </tr>\n",
              "    <tr>\n",
              "      <th>Kerala</th>\n",
              "      <td>5.147840e+06</td>\n",
              "      <td>9985964</td>\n",
              "      <td>210054</td>\n",
              "    </tr>\n",
              "    <tr>\n",
              "      <th>West_Bengal</th>\n",
              "      <td>5.145355e+06</td>\n",
              "      <td>9959440</td>\n",
              "      <td>10310</td>\n",
              "    </tr>\n",
              "    <tr>\n",
              "      <th>Andhra_Pradesh</th>\n",
              "      <td>5.132634e+06</td>\n",
              "      <td>9998070</td>\n",
              "      <td>11114</td>\n",
              "    </tr>\n",
              "    <tr>\n",
              "      <th>Jharkhand</th>\n",
              "      <td>5.131951e+06</td>\n",
              "      <td>9889836</td>\n",
              "      <td>28561</td>\n",
              "    </tr>\n",
              "    <tr>\n",
              "      <th>Bihar</th>\n",
              "      <td>5.090864e+06</td>\n",
              "      <td>9981206</td>\n",
              "      <td>61219</td>\n",
              "    </tr>\n",
              "    <tr>\n",
              "      <th>Tripura</th>\n",
              "      <td>5.077603e+06</td>\n",
              "      <td>9937676</td>\n",
              "      <td>612456</td>\n",
              "    </tr>\n",
              "    <tr>\n",
              "      <th>Chhattisgarh</th>\n",
              "      <td>5.050047e+06</td>\n",
              "      <td>9840316</td>\n",
              "      <td>112513</td>\n",
              "    </tr>\n",
              "    <tr>\n",
              "      <th>Gujarat</th>\n",
              "      <td>5.036943e+06</td>\n",
              "      <td>9999180</td>\n",
              "      <td>30515</td>\n",
              "    </tr>\n",
              "    <tr>\n",
              "      <th>Maharashtra</th>\n",
              "      <td>5.029873e+06</td>\n",
              "      <td>9979065</td>\n",
              "      <td>11430</td>\n",
              "    </tr>\n",
              "    <tr>\n",
              "      <th>Karnataka</th>\n",
              "      <td>5.027459e+06</td>\n",
              "      <td>9913743</td>\n",
              "      <td>84792</td>\n",
              "    </tr>\n",
              "    <tr>\n",
              "      <th>Delhi</th>\n",
              "      <td>5.024118e+06</td>\n",
              "      <td>9976619</td>\n",
              "      <td>36391</td>\n",
              "    </tr>\n",
              "    <tr>\n",
              "      <th>Tamil_Nadu</th>\n",
              "      <td>5.019057e+06</td>\n",
              "      <td>9938741</td>\n",
              "      <td>21831</td>\n",
              "    </tr>\n",
              "    <tr>\n",
              "      <th>Telangana</th>\n",
              "      <td>4.921151e+06</td>\n",
              "      <td>9961107</td>\n",
              "      <td>10675</td>\n",
              "    </tr>\n",
              "    <tr>\n",
              "      <th>Odisha</th>\n",
              "      <td>4.917018e+06</td>\n",
              "      <td>9991569</td>\n",
              "      <td>206151</td>\n",
              "    </tr>\n",
              "    <tr>\n",
              "      <th>Punjab</th>\n",
              "      <td>4.902684e+06</td>\n",
              "      <td>9962662</td>\n",
              "      <td>66912</td>\n",
              "    </tr>\n",
              "    <tr>\n",
              "      <th>Madhya_Pradesh</th>\n",
              "      <td>4.888580e+06</td>\n",
              "      <td>9976498</td>\n",
              "      <td>88025</td>\n",
              "    </tr>\n",
              "    <tr>\n",
              "      <th>Haryana</th>\n",
              "      <td>4.863619e+06</td>\n",
              "      <td>9878857</td>\n",
              "      <td>52436</td>\n",
              "    </tr>\n",
              "    <tr>\n",
              "      <th>Uttar_Pradesh</th>\n",
              "      <td>4.862065e+06</td>\n",
              "      <td>9961539</td>\n",
              "      <td>16890</td>\n",
              "    </tr>\n",
              "    <tr>\n",
              "      <th>Assam</th>\n",
              "      <td>4.764534e+06</td>\n",
              "      <td>9926354</td>\n",
              "      <td>61638</td>\n",
              "    </tr>\n",
              "    <tr>\n",
              "      <th>Sikkim</th>\n",
              "      <td>4.653533e+06</td>\n",
              "      <td>9886718</td>\n",
              "      <td>129457</td>\n",
              "    </tr>\n",
              "    <tr>\n",
              "      <th>Uttarakhand</th>\n",
              "      <td>4.611185e+06</td>\n",
              "      <td>9822116</td>\n",
              "      <td>12608</td>\n",
              "    </tr>\n",
              "    <tr>\n",
              "      <th>Jammu_and_Kashmir</th>\n",
              "      <td>4.531213e+06</td>\n",
              "      <td>9984878</td>\n",
              "      <td>80183</td>\n",
              "    </tr>\n",
              "    <tr>\n",
              "      <th>Uttar_Pradesh[5]</th>\n",
              "      <td>4.260598e+06</td>\n",
              "      <td>9760129</td>\n",
              "      <td>461499</td>\n",
              "    </tr>\n",
              "    <tr>\n",
              "      <th>Puducherry</th>\n",
              "      <td>4.205584e+06</td>\n",
              "      <td>9931632</td>\n",
              "      <td>268562</td>\n",
              "    </tr>\n",
              "    <tr>\n",
              "      <th>Himachal_Pradesh</th>\n",
              "      <td>4.089159e+06</td>\n",
              "      <td>9604465</td>\n",
              "      <td>96503</td>\n",
              "    </tr>\n",
              "    <tr>\n",
              "      <th>Chandigarh</th>\n",
              "      <td>3.833215e+06</td>\n",
              "      <td>7966142</td>\n",
              "      <td>881669</td>\n",
              "    </tr>\n",
              "  </tbody>\n",
              "</table>\n",
              "</div>"
            ],
            "text/plain": [
              "                           mean      max     min\n",
              "STATE                                           \n",
              "Manipur            6.201936e+06  9605093  373596\n",
              "Rajasthan          5.237206e+06  9978110   41719\n",
              "Mizoram            5.159259e+06  8915716  340023\n",
              "Kerala             5.147840e+06  9985964  210054\n",
              "West_Bengal        5.145355e+06  9959440   10310\n",
              "Andhra_Pradesh     5.132634e+06  9998070   11114\n",
              "Jharkhand          5.131951e+06  9889836   28561\n",
              "Bihar              5.090864e+06  9981206   61219\n",
              "Tripura            5.077603e+06  9937676  612456\n",
              "Chhattisgarh       5.050047e+06  9840316  112513\n",
              "Gujarat            5.036943e+06  9999180   30515\n",
              "Maharashtra        5.029873e+06  9979065   11430\n",
              "Karnataka          5.027459e+06  9913743   84792\n",
              "Delhi              5.024118e+06  9976619   36391\n",
              "Tamil_Nadu         5.019057e+06  9938741   21831\n",
              "Telangana          4.921151e+06  9961107   10675\n",
              "Odisha             4.917018e+06  9991569  206151\n",
              "Punjab             4.902684e+06  9962662   66912\n",
              "Madhya_Pradesh     4.888580e+06  9976498   88025\n",
              "Haryana            4.863619e+06  9878857   52436\n",
              "Uttar_Pradesh      4.862065e+06  9961539   16890\n",
              "Assam              4.764534e+06  9926354   61638\n",
              "Sikkim             4.653533e+06  9886718  129457\n",
              "Uttarakhand        4.611185e+06  9822116   12608\n",
              "Jammu_and_Kashmir  4.531213e+06  9984878   80183\n",
              "Uttar_Pradesh[5]   4.260598e+06  9760129  461499\n",
              "Puducherry         4.205584e+06  9931632  268562\n",
              "Himachal_Pradesh   4.089159e+06  9604465   96503\n",
              "Chandigarh         3.833215e+06  7966142  881669"
            ]
          },
          "metadata": {},
          "execution_count": 13
        }
      ]
    },
    {
      "cell_type": "code",
      "metadata": {
        "colab": {
          "base_uri": "https://localhost:8080/"
        },
        "id": "BxQ1-QXqJ_Qe",
        "outputId": "f3c47d4f-8d06-4e30-c3af-9220f44bf224"
      },
      "source": [
        "Due_2 = Clue_2.index.values\n",
        "Due_2"
      ],
      "execution_count": 15,
      "outputs": [
        {
          "output_type": "execute_result",
          "data": {
            "text/plain": [
              "array(['Manipur', 'Rajasthan', 'Mizoram', 'Kerala', 'West_Bengal',\n",
              "       'Andhra_Pradesh', 'Jharkhand', 'Bihar', 'Tripura', 'Chhattisgarh',\n",
              "       'Gujarat', 'Maharashtra', 'Karnataka', 'Delhi', 'Tamil_Nadu',\n",
              "       'Telangana', 'Odisha', 'Punjab', 'Madhya_Pradesh', 'Haryana',\n",
              "       'Uttar_Pradesh', 'Assam', 'Sikkim', 'Uttarakhand',\n",
              "       'Jammu_and_Kashmir', 'Uttar_Pradesh[5]', 'Puducherry',\n",
              "       'Himachal_Pradesh', 'Chandigarh'], dtype=object)"
            ]
          },
          "metadata": {},
          "execution_count": 15
        }
      ]
    },
    {
      "cell_type": "code",
      "metadata": {
        "colab": {
          "base_uri": "https://localhost:8080/"
        },
        "id": "_a7hkrbN6usp",
        "outputId": "49419b8e-c921-42f7-bc5f-8f2c2bac058b"
      },
      "source": [
        "Due = Clue.index.values\n",
        "Due"
      ],
      "execution_count": null,
      "outputs": [
        {
          "output_type": "execute_result",
          "data": {
            "text/plain": [
              "array(['Petroleum_Engineer', 'Psychologist', 'Designer', 'Scientist',\n",
              "       'Surgeon', 'Comedian', 'Chemical_engineer', 'Mechanical_engineer',\n",
              "       'Artist', 'Financial_Analyst', 'Consultant', 'Lawyer',\n",
              "       'Computer_operator', 'Surveyor', 'Secretary', 'Army_officer',\n",
              "       'Aviator', 'Fashion_Designer', 'Industrial_Engineer',\n",
              "       'Firefighter', 'Microbiologist', 'Statistician', 'Librarian',\n",
              "       'Architect', 'Chartered_Accountant', 'Hotel_Manager',\n",
              "       'Computer_hardware_engineer', 'Technology_specialist',\n",
              "       'Biomedical_Engineer', 'Technician', 'Air_traffic_controller',\n",
              "       'Dentist', 'Civil_servant', 'Technical_writer', 'Economist',\n",
              "       'Politician', 'Graphic_Designer', 'Analyst', 'Web_designer',\n",
              "       'Software_Developer', 'Geologist', 'Design_Engineer', 'Chef',\n",
              "       'Engineer', 'Physician', 'Magistrate', 'Civil_engineer',\n",
              "       'Official', 'Drafter', 'Flight_attendant', 'Police_officer'],\n",
              "      dtype=object)"
            ]
          },
          "metadata": {},
          "execution_count": 110
        }
      ]
    },
    {
      "cell_type": "code",
      "metadata": {
        "colab": {
          "base_uri": "https://localhost:8080/",
          "height": 656
        },
        "id": "AH51bpdehShJ",
        "outputId": "4e72412d-b916-4486-a873-5d0372d2c2aa"
      },
      "source": [
        "fig, ax = plt.subplots(figsize=(20, 10))  # a figure with a single Axes\n",
        "sns.barplot(x='Income', y='Profession', data=data, order=Due)\n",
        "ax.set_title('PLOT', fontsize=20)\n",
        "ax.set_xlabel('Profession', fontsize=20)\n",
        "ax.set_ylabel('Income', fontsize=20)\n",
        "plt.show()"
      ],
      "execution_count": null,
      "outputs": [
        {
          "output_type": "display_data",
          "data": {
            "image/png": "[encoded data removed]",
            "text/plain": [
              "<Figure size 1440x720 with 1 Axes>"
            ]
          },
          "metadata": {
            "needs_background": "light"
          }
        }
      ]
    },
    {
      "cell_type": "code",
      "metadata": {
        "id": "yetRARZ-7ghD"
      },
      "source": [
        "'''Make more plots from your inituition using any plotting library,\n",
        " it can be univariant (single variable/column) or multivariant (multiple variables/columns)'''"
      ],
      "execution_count": null,
      "outputs": []
    },
    {
      "cell_type": "code",
      "metadata": {
        "colab": {
          "base_uri": "https://localhost:8080/"
        },
        "id": "6yBQhmz7kly-",
        "outputId": "4fe2f111-d8f5-4c13-9031-63afd37180c1"
      },
      "source": [
        "df[['Income']].dtypes"
      ],
      "execution_count": null,
      "outputs": [
        {
          "output_type": "execute_result",
          "data": {
            "text/plain": [
              "Income    int64\n",
              "dtype: object"
            ]
          },
          "metadata": {},
          "execution_count": 61
        }
      ]
    },
    {
      "cell_type": "code",
      "metadata": {
        "colab": {
          "base_uri": "https://localhost:8080/",
          "height": 280
        },
        "id": "W-TG8oFaHOM3",
        "outputId": "22bab48a-149f-4f3b-da9f-71a1d7e44a86"
      },
      "source": [
        "ax = sns.countplot(x=\"Car_Ownership\", data=df)"
      ],
      "execution_count": 7,
      "outputs": [
        {
          "output_type": "display_data",
          "data": {
            "image/png": "[encoded data removed]",
            "text/plain": [
              "<Figure size 432x288 with 1 Axes>"
            ]
          },
          "metadata": {
            "needs_background": "light"
          }
        }
      ]
    },
    {
      "cell_type": "code",
      "metadata": {
        "colab": {
          "base_uri": "https://localhost:8080/",
          "height": 475
        },
        "id": "lzq_IHBGJhR3",
        "outputId": "6d91966a-9218-4d03-91a9-3660acca823e"
      },
      "source": [
        "fig, ax = plt.subplots(figsize=(20, 10))  # a figure with a single Axes\n",
        "sns.countplot(y=\"STATE\", data=df, order=Due_2)\n",
        "ax.set_title('Value Counts', fontsize=20)\n",
        "plt.show()"
      ],
      "execution_count": 16,
      "outputs": [
        {
          "output_type": "display_data",
          "data": {
            "image/png": "[encoded data removed]",
            "text/plain": [
              "<Figure size 1440x720 with 1 Axes>"
            ]
          },
          "metadata": {
            "needs_background": "light"
          }
        }
      ]
    },
    {
      "cell_type": "code",
      "metadata": {
        "colab": {
          "base_uri": "https://localhost:8080/",
          "height": 296
        },
        "id": "pMi91JvBJBP0",
        "outputId": "24d47bf9-9740-4900-91e6-16bfeac055d8"
      },
      "source": [
        "sns.kdeplot(df.query('Age < 80').Age)"
      ],
      "execution_count": 26,
      "outputs": [
        {
          "output_type": "execute_result",
          "data": {
            "text/plain": [
              "<matplotlib.axes._subplots.AxesSubplot at 0x7f7209ce6b10>"
            ]
          },
          "metadata": {},
          "execution_count": 26
        },
        {
          "output_type": "display_data",
          "data": {
            "image/png": "[encoded data removed]",
            "text/plain": [
              "<Figure size 432x288 with 1 Axes>"
            ]
          },
          "metadata": {
            "needs_background": "light"
          }
        }
      ]
    },
    {
      "cell_type": "code",
      "metadata": {
        "colab": {
          "base_uri": "https://localhost:8080/",
          "height": 296
        },
        "id": "Bc0QLCnIOPzZ",
        "outputId": "b5029edf-dfbb-4114-a54a-fb79d65f04a5"
      },
      "source": [
        "sns.kdeplot(df.query('Experience < 10').Experience)"
      ],
      "execution_count": 27,
      "outputs": [
        {
          "output_type": "execute_result",
          "data": {
            "text/plain": [
              "<matplotlib.axes._subplots.AxesSubplot at 0x7f720bd87110>"
            ]
          },
          "metadata": {},
          "execution_count": 27
        },
        {
          "output_type": "display_data",
          "data": {
            "image/png": "[encoded data removed]",
            "text/plain": [
              "<Figure size 432x288 with 1 Axes>"
            ]
          },
          "metadata": {
            "needs_background": "light"
          }
        }
      ]
    },
    {
      "cell_type": "code",
      "metadata": {
        "colab": {
          "base_uri": "https://localhost:8080/",
          "height": 298
        },
        "id": "gjtB-tEDOk65",
        "outputId": "1af0def0-459d-47a6-9ad7-24a33ac0352c"
      },
      "source": [
        "sns.kdeplot(df.query('Experience > 10').Experience)"
      ],
      "execution_count": 31,
      "outputs": [
        {
          "output_type": "execute_result",
          "data": {
            "text/plain": [
              "<matplotlib.axes._subplots.AxesSubplot at 0x7f720bb48950>"
            ]
          },
          "metadata": {},
          "execution_count": 31
        },
        {
          "output_type": "display_data",
          "data": {
            "image/png": "[encoded data removed]",
            "text/plain": [
              "<Figure size 432x288 with 1 Axes>"
            ]
          },
          "metadata": {
            "needs_background": "light"
          }
        }
      ]
    },
    {
      "cell_type": "code",
      "metadata": {
        "colab": {
          "base_uri": "https://localhost:8080/",
          "height": 297
        },
        "id": "XVRJP2_-Owml",
        "outputId": "79ad64d3-2fc4-4ecc-898b-cd2bee5b729a"
      },
      "source": [
        "sns.histplot(df['CURRENT_JOB_YRS'])"
      ],
      "execution_count": 41,
      "outputs": [
        {
          "output_type": "execute_result",
          "data": {
            "text/plain": [
              "<matplotlib.axes._subplots.AxesSubplot at 0x7f71fd9aedd0>"
            ]
          },
          "metadata": {},
          "execution_count": 41
        },
        {
          "output_type": "display_data",
          "data": {
            "image/png": "[encoded data removed]",
            "text/plain": [
              "<Figure size 432x288 with 1 Axes>"
            ]
          },
          "metadata": {
            "needs_background": "light"
          }
        }
      ]
    },
    {
      "cell_type": "code",
      "metadata": {
        "colab": {
          "base_uri": "https://localhost:8080/",
          "height": 297
        },
        "id": "3yxNI2ctRAcW",
        "outputId": "602a871e-ddcf-4478-a532-045c5f50d502"
      },
      "source": [
        "sns.histplot(df['CURRENT_HOUSE_YRS'])"
      ],
      "execution_count": 52,
      "outputs": [
        {
          "output_type": "execute_result",
          "data": {
            "text/plain": [
              "<matplotlib.axes._subplots.AxesSubplot at 0x7f71fd40e8d0>"
            ]
          },
          "metadata": {},
          "execution_count": 52
        },
        {
          "output_type": "display_data",
          "data": {
            "image/png": "[encoded data removed]",
            "text/plain": [
              "<Figure size 432x288 with 1 Axes>"
            ]
          },
          "metadata": {
            "needs_background": "light"
          }
        }
      ]
    },
    {
      "cell_type": "code",
      "metadata": {
        "colab": {
          "base_uri": "https://localhost:8080/",
          "height": 423
        },
        "id": "s79UpchcROnE",
        "outputId": "bc27fdaa-d73a-4e81-9a1d-d2f1902bfefc"
      },
      "source": [
        "(df['Profession'].value_counts().head(10) / len(df)).plot.bar()"
      ],
      "execution_count": 45,
      "outputs": [
        {
          "output_type": "execute_result",
          "data": {
            "text/plain": [
              "<matplotlib.axes._subplots.AxesSubplot at 0x7f71fd619a90>"
            ]
          },
          "metadata": {},
          "execution_count": 45
        },
        {
          "output_type": "display_data",
          "data": {
            "image/png": "[encoded data removed]",
            "text/plain": [
              "<Figure size 432x288 with 1 Axes>"
            ]
          },
          "metadata": {
            "needs_background": "light"
          }
        }
      ]
    },
    {
      "cell_type": "code",
      "metadata": {
        "colab": {
          "base_uri": "https://localhost:8080/",
          "height": 357
        },
        "id": "J9yvd9QSRpOt",
        "outputId": "3048f995-5a2c-47d5-c7c3-45553b4a2010"
      },
      "source": [
        "(df['STATE'].value_counts().head(10) / len(df)).plot.bar()"
      ],
      "execution_count": 47,
      "outputs": [
        {
          "output_type": "execute_result",
          "data": {
            "text/plain": [
              "<matplotlib.axes._subplots.AxesSubplot at 0x7f71fd623990>"
            ]
          },
          "metadata": {},
          "execution_count": 47
        },
        {
          "output_type": "display_data",
          "data": {
            "image/png": "[encoded data removed]",
            "text/plain": [
              "<Figure size 432x288 with 1 Axes>"
            ]
          },
          "metadata": {
            "needs_background": "light"
          }
        }
      ]
    },
    {
      "cell_type": "markdown",
      "metadata": {
        "id": "tULdOYwL7NoK"
      },
      "source": [
        "##Preprocessing"
      ]
    },
    {
      "cell_type": "code",
      "metadata": {
        "id": "LBTbgpTAmQ3h"
      },
      "source": [
        "#make a copy of the DataFrame to leave the main data unaffected\n",
        "df_copy = df.copy()"
      ],
      "execution_count": 53,
      "outputs": []
    },
    {
      "cell_type": "code",
      "metadata": {
        "colab": {
          "base_uri": "https://localhost:8080/",
          "height": 224
        },
        "id": "6ObvZKEumQ6a",
        "outputId": "159e459a-f6f4-4a71-9603-5d6ca21d7e7c"
      },
      "source": [
        "df2 = df.drop([\"Id\", \"CITY\"], axis=1)\n",
        "df2.head()"
      ],
      "execution_count": 54,
      "outputs": [
        {
          "output_type": "execute_result",
          "data": {
            "text/html": [
              "<div>\n",
              "<style scoped>\n",
              "    .dataframe tbody tr th:only-of-type {\n",
              "        vertical-align: middle;\n",
              "    }\n",
              "\n",
              "    .dataframe tbody tr th {\n",
              "        vertical-align: top;\n",
              "    }\n",
              "\n",
              "    .dataframe thead th {\n",
              "        text-align: right;\n",
              "    }\n",
              "</style>\n",
              "<table border=\"1\" class=\"dataframe\">\n",
              "  <thead>\n",
              "    <tr style=\"text-align: right;\">\n",
              "      <th></th>\n",
              "      <th>Income</th>\n",
              "      <th>Age</th>\n",
              "      <th>Experience</th>\n",
              "      <th>Married/Single</th>\n",
              "      <th>House_Ownership</th>\n",
              "      <th>Car_Ownership</th>\n",
              "      <th>Profession</th>\n",
              "      <th>STATE</th>\n",
              "      <th>CURRENT_JOB_YRS</th>\n",
              "      <th>CURRENT_HOUSE_YRS</th>\n",
              "      <th>Risk_Flag</th>\n",
              "    </tr>\n",
              "  </thead>\n",
              "  <tbody>\n",
              "    <tr>\n",
              "      <th>0</th>\n",
              "      <td>1303834</td>\n",
              "      <td>23</td>\n",
              "      <td>3</td>\n",
              "      <td>single</td>\n",
              "      <td>rented</td>\n",
              "      <td>no</td>\n",
              "      <td>Mechanical_engineer</td>\n",
              "      <td>Madhya_Pradesh</td>\n",
              "      <td>3.0</td>\n",
              "      <td>13.0</td>\n",
              "      <td>0.0</td>\n",
              "    </tr>\n",
              "    <tr>\n",
              "      <th>1</th>\n",
              "      <td>7574516</td>\n",
              "      <td>40</td>\n",
              "      <td>10</td>\n",
              "      <td>single</td>\n",
              "      <td>rented</td>\n",
              "      <td>no</td>\n",
              "      <td>Software_Developer</td>\n",
              "      <td>Maharashtra</td>\n",
              "      <td>9.0</td>\n",
              "      <td>13.0</td>\n",
              "      <td>0.0</td>\n",
              "    </tr>\n",
              "    <tr>\n",
              "      <th>2</th>\n",
              "      <td>3991815</td>\n",
              "      <td>66</td>\n",
              "      <td>4</td>\n",
              "      <td>married</td>\n",
              "      <td>rented</td>\n",
              "      <td>no</td>\n",
              "      <td>Technical_writer</td>\n",
              "      <td>Kerala</td>\n",
              "      <td>4.0</td>\n",
              "      <td>10.0</td>\n",
              "      <td>0.0</td>\n",
              "    </tr>\n",
              "    <tr>\n",
              "      <th>3</th>\n",
              "      <td>6256451</td>\n",
              "      <td>41</td>\n",
              "      <td>2</td>\n",
              "      <td>single</td>\n",
              "      <td>rented</td>\n",
              "      <td>yes</td>\n",
              "      <td>Software_Developer</td>\n",
              "      <td>Odisha</td>\n",
              "      <td>2.0</td>\n",
              "      <td>12.0</td>\n",
              "      <td>1.0</td>\n",
              "    </tr>\n",
              "    <tr>\n",
              "      <th>4</th>\n",
              "      <td>5768871</td>\n",
              "      <td>47</td>\n",
              "      <td>11</td>\n",
              "      <td>single</td>\n",
              "      <td>rented</td>\n",
              "      <td>no</td>\n",
              "      <td>Civil_servant</td>\n",
              "      <td>Tamil_Nadu</td>\n",
              "      <td>3.0</td>\n",
              "      <td>14.0</td>\n",
              "      <td>1.0</td>\n",
              "    </tr>\n",
              "  </tbody>\n",
              "</table>\n",
              "</div>"
            ],
            "text/plain": [
              "    Income  Age  Experience  ... CURRENT_JOB_YRS CURRENT_HOUSE_YRS Risk_Flag\n",
              "0  1303834   23           3  ...             3.0              13.0       0.0\n",
              "1  7574516   40          10  ...             9.0              13.0       0.0\n",
              "2  3991815   66           4  ...             4.0              10.0       0.0\n",
              "3  6256451   41           2  ...             2.0              12.0       1.0\n",
              "4  5768871   47          11  ...             3.0              14.0       1.0\n",
              "\n",
              "[5 rows x 11 columns]"
            ]
          },
          "metadata": {},
          "execution_count": 54
        }
      ]
    },
    {
      "cell_type": "code",
      "metadata": {
        "id": "3ZTGEFM6mQ9E"
      },
      "source": [
        "#Import LabelEncoder from the sklearn library\n",
        "from sklearn.preprocessing import LabelEncoder"
      ],
      "execution_count": 69,
      "outputs": []
    },
    {
      "cell_type": "code",
      "metadata": {
        "id": "vVMh5ImVmQ_t"
      },
      "source": [
        "Mar_LE = LabelEncoder()\n",
        "Hou_LE = LabelEncoder()\n",
        "Car_LE = LabelEncoder()\n",
        "Pro_LE = LabelEncoder()\n",
        "Sta_LE = LabelEncoder()\n"
      ],
      "execution_count": 56,
      "outputs": []
    },
    {
      "cell_type": "code",
      "metadata": {
        "colab": {
          "base_uri": "https://localhost:8080/",
          "height": 224
        },
        "id": "p1N0b4YEmRCP",
        "outputId": "a5218fe7-961d-414f-84b8-b68435b84796"
      },
      "source": [
        "df['Married/Single']=Mar_LE.fit_transform(df['Married/Single'])\n",
        "df['House_Ownership']=Hou_LE.fit_transform(df['House_Ownership'])\n",
        "df['Car_Ownership']=Car_LE.fit_transform(df['Car_Ownership'])\n",
        "df['Profession']=Pro_LE.fit_transform(df['Profession'])\n",
        "\n",
        "df2 = df.drop([\"Id\", \"CITY\", \"STATE\"], axis=1)\n",
        "df2.head()"
      ],
      "execution_count": 72,
      "outputs": [
        {
          "output_type": "execute_result",
          "data": {
            "text/html": [
              "<div>\n",
              "<style scoped>\n",
              "    .dataframe tbody tr th:only-of-type {\n",
              "        vertical-align: middle;\n",
              "    }\n",
              "\n",
              "    .dataframe tbody tr th {\n",
              "        vertical-align: top;\n",
              "    }\n",
              "\n",
              "    .dataframe thead th {\n",
              "        text-align: right;\n",
              "    }\n",
              "</style>\n",
              "<table border=\"1\" class=\"dataframe\">\n",
              "  <thead>\n",
              "    <tr style=\"text-align: right;\">\n",
              "      <th></th>\n",
              "      <th>Income</th>\n",
              "      <th>Age</th>\n",
              "      <th>Experience</th>\n",
              "      <th>Married/Single</th>\n",
              "      <th>House_Ownership</th>\n",
              "      <th>Car_Ownership</th>\n",
              "      <th>Profession</th>\n",
              "      <th>CURRENT_JOB_YRS</th>\n",
              "      <th>CURRENT_HOUSE_YRS</th>\n",
              "      <th>Risk_Flag</th>\n",
              "    </tr>\n",
              "  </thead>\n",
              "  <tbody>\n",
              "    <tr>\n",
              "      <th>0</th>\n",
              "      <td>1303834</td>\n",
              "      <td>23</td>\n",
              "      <td>3</td>\n",
              "      <td>1</td>\n",
              "      <td>2</td>\n",
              "      <td>0</td>\n",
              "      <td>34</td>\n",
              "      <td>3.0</td>\n",
              "      <td>13.0</td>\n",
              "      <td>0.0</td>\n",
              "    </tr>\n",
              "    <tr>\n",
              "      <th>1</th>\n",
              "      <td>7574516</td>\n",
              "      <td>40</td>\n",
              "      <td>10</td>\n",
              "      <td>1</td>\n",
              "      <td>2</td>\n",
              "      <td>0</td>\n",
              "      <td>44</td>\n",
              "      <td>9.0</td>\n",
              "      <td>13.0</td>\n",
              "      <td>0.0</td>\n",
              "    </tr>\n",
              "    <tr>\n",
              "      <th>2</th>\n",
              "      <td>3991815</td>\n",
              "      <td>66</td>\n",
              "      <td>4</td>\n",
              "      <td>0</td>\n",
              "      <td>2</td>\n",
              "      <td>0</td>\n",
              "      <td>48</td>\n",
              "      <td>4.0</td>\n",
              "      <td>10.0</td>\n",
              "      <td>0.0</td>\n",
              "    </tr>\n",
              "    <tr>\n",
              "      <th>3</th>\n",
              "      <td>6256451</td>\n",
              "      <td>41</td>\n",
              "      <td>2</td>\n",
              "      <td>1</td>\n",
              "      <td>2</td>\n",
              "      <td>1</td>\n",
              "      <td>44</td>\n",
              "      <td>2.0</td>\n",
              "      <td>12.0</td>\n",
              "      <td>1.0</td>\n",
              "    </tr>\n",
              "    <tr>\n",
              "      <th>4</th>\n",
              "      <td>5768871</td>\n",
              "      <td>47</td>\n",
              "      <td>11</td>\n",
              "      <td>1</td>\n",
              "      <td>2</td>\n",
              "      <td>0</td>\n",
              "      <td>11</td>\n",
              "      <td>3.0</td>\n",
              "      <td>14.0</td>\n",
              "      <td>1.0</td>\n",
              "    </tr>\n",
              "  </tbody>\n",
              "</table>\n",
              "</div>"
            ],
            "text/plain": [
              "    Income  Age  Experience  ...  CURRENT_JOB_YRS  CURRENT_HOUSE_YRS  Risk_Flag\n",
              "0  1303834   23           3  ...              3.0               13.0        0.0\n",
              "1  7574516   40          10  ...              9.0               13.0        0.0\n",
              "2  3991815   66           4  ...              4.0               10.0        0.0\n",
              "3  6256451   41           2  ...              2.0               12.0        1.0\n",
              "4  5768871   47          11  ...              3.0               14.0        1.0\n",
              "\n",
              "[5 rows x 10 columns]"
            ]
          },
          "metadata": {},
          "execution_count": 72
        }
      ]
    },
    {
      "cell_type": "code",
      "metadata": {
        "id": "XZEWXEGKxNCM"
      },
      "source": [
        "from sklearn.model_selection import train_test_split"
      ],
      "execution_count": 59,
      "outputs": []
    },
    {
      "cell_type": "code",
      "metadata": {
        "id": "LbgVko0Mzg7b"
      },
      "source": [
        "X = df.drop('Risk_Flag',axis=1)\n",
        "y = df['Risk_Flag']"
      ],
      "execution_count": 88,
      "outputs": []
    },
    {
      "cell_type": "code",
      "metadata": {
        "colab": {
          "base_uri": "https://localhost:8080/",
          "height": 439
        },
        "id": "g_MSKeHsZ7IJ",
        "outputId": "28d440ad-91e7-43cd-bcef-5346534edbc9"
      },
      "source": [
        "X"
      ],
      "execution_count": 85,
      "outputs": [
        {
          "output_type": "execute_result",
          "data": {
            "text/html": [
              "<div>\n",
              "<style scoped>\n",
              "    .dataframe tbody tr th:only-of-type {\n",
              "        vertical-align: middle;\n",
              "    }\n",
              "\n",
              "    .dataframe tbody tr th {\n",
              "        vertical-align: top;\n",
              "    }\n",
              "\n",
              "    .dataframe thead th {\n",
              "        text-align: right;\n",
              "    }\n",
              "</style>\n",
              "<table border=\"1\" class=\"dataframe\">\n",
              "  <thead>\n",
              "    <tr style=\"text-align: right;\">\n",
              "      <th></th>\n",
              "      <th>Id</th>\n",
              "      <th>Income</th>\n",
              "      <th>Age</th>\n",
              "      <th>Experience</th>\n",
              "      <th>House_Ownership</th>\n",
              "      <th>Car_Ownership</th>\n",
              "      <th>Profession</th>\n",
              "      <th>CITY</th>\n",
              "      <th>STATE</th>\n",
              "      <th>CURRENT_JOB_YRS</th>\n",
              "      <th>CURRENT_HOUSE_YRS</th>\n",
              "      <th>Risk_Flag</th>\n",
              "    </tr>\n",
              "  </thead>\n",
              "  <tbody>\n",
              "    <tr>\n",
              "      <th>0</th>\n",
              "      <td>1</td>\n",
              "      <td>1303834</td>\n",
              "      <td>23</td>\n",
              "      <td>3</td>\n",
              "      <td>2</td>\n",
              "      <td>0</td>\n",
              "      <td>34</td>\n",
              "      <td>Rewa</td>\n",
              "      <td>Madhya_Pradesh</td>\n",
              "      <td>3.0</td>\n",
              "      <td>13.0</td>\n",
              "      <td>0.0</td>\n",
              "    </tr>\n",
              "    <tr>\n",
              "      <th>1</th>\n",
              "      <td>2</td>\n",
              "      <td>7574516</td>\n",
              "      <td>40</td>\n",
              "      <td>10</td>\n",
              "      <td>2</td>\n",
              "      <td>0</td>\n",
              "      <td>44</td>\n",
              "      <td>Parbhani</td>\n",
              "      <td>Maharashtra</td>\n",
              "      <td>9.0</td>\n",
              "      <td>13.0</td>\n",
              "      <td>0.0</td>\n",
              "    </tr>\n",
              "    <tr>\n",
              "      <th>2</th>\n",
              "      <td>3</td>\n",
              "      <td>3991815</td>\n",
              "      <td>66</td>\n",
              "      <td>4</td>\n",
              "      <td>2</td>\n",
              "      <td>0</td>\n",
              "      <td>48</td>\n",
              "      <td>Alappuzha</td>\n",
              "      <td>Kerala</td>\n",
              "      <td>4.0</td>\n",
              "      <td>10.0</td>\n",
              "      <td>0.0</td>\n",
              "    </tr>\n",
              "    <tr>\n",
              "      <th>3</th>\n",
              "      <td>4</td>\n",
              "      <td>6256451</td>\n",
              "      <td>41</td>\n",
              "      <td>2</td>\n",
              "      <td>2</td>\n",
              "      <td>1</td>\n",
              "      <td>44</td>\n",
              "      <td>Bhubaneswar</td>\n",
              "      <td>Odisha</td>\n",
              "      <td>2.0</td>\n",
              "      <td>12.0</td>\n",
              "      <td>1.0</td>\n",
              "    </tr>\n",
              "    <tr>\n",
              "      <th>4</th>\n",
              "      <td>5</td>\n",
              "      <td>5768871</td>\n",
              "      <td>47</td>\n",
              "      <td>11</td>\n",
              "      <td>2</td>\n",
              "      <td>0</td>\n",
              "      <td>11</td>\n",
              "      <td>Tiruchirappalli[10]</td>\n",
              "      <td>Tamil_Nadu</td>\n",
              "      <td>3.0</td>\n",
              "      <td>14.0</td>\n",
              "      <td>1.0</td>\n",
              "    </tr>\n",
              "    <tr>\n",
              "      <th>...</th>\n",
              "      <td>...</td>\n",
              "      <td>...</td>\n",
              "      <td>...</td>\n",
              "      <td>...</td>\n",
              "      <td>...</td>\n",
              "      <td>...</td>\n",
              "      <td>...</td>\n",
              "      <td>...</td>\n",
              "      <td>...</td>\n",
              "      <td>...</td>\n",
              "      <td>...</td>\n",
              "      <td>...</td>\n",
              "    </tr>\n",
              "    <tr>\n",
              "      <th>39803</th>\n",
              "      <td>39804</td>\n",
              "      <td>3246861</td>\n",
              "      <td>79</td>\n",
              "      <td>2</td>\n",
              "      <td>2</td>\n",
              "      <td>1</td>\n",
              "      <td>5</td>\n",
              "      <td>Adoni</td>\n",
              "      <td>Andhra_Pradesh</td>\n",
              "      <td>2.0</td>\n",
              "      <td>13.0</td>\n",
              "      <td>0.0</td>\n",
              "    </tr>\n",
              "    <tr>\n",
              "      <th>39804</th>\n",
              "      <td>39805</td>\n",
              "      <td>1478769</td>\n",
              "      <td>22</td>\n",
              "      <td>14</td>\n",
              "      <td>2</td>\n",
              "      <td>0</td>\n",
              "      <td>43</td>\n",
              "      <td>Shimla</td>\n",
              "      <td>Himachal_Pradesh</td>\n",
              "      <td>8.0</td>\n",
              "      <td>12.0</td>\n",
              "      <td>0.0</td>\n",
              "    </tr>\n",
              "    <tr>\n",
              "      <th>39805</th>\n",
              "      <td>39806</td>\n",
              "      <td>9541394</td>\n",
              "      <td>22</td>\n",
              "      <td>15</td>\n",
              "      <td>2</td>\n",
              "      <td>1</td>\n",
              "      <td>42</td>\n",
              "      <td>Rewa</td>\n",
              "      <td>Madhya_Pradesh</td>\n",
              "      <td>12.0</td>\n",
              "      <td>11.0</td>\n",
              "      <td>0.0</td>\n",
              "    </tr>\n",
              "    <tr>\n",
              "      <th>39806</th>\n",
              "      <td>39807</td>\n",
              "      <td>704775</td>\n",
              "      <td>33</td>\n",
              "      <td>8</td>\n",
              "      <td>2</td>\n",
              "      <td>0</td>\n",
              "      <td>3</td>\n",
              "      <td>Saharanpur</td>\n",
              "      <td>Uttar_Pradesh</td>\n",
              "      <td>4.0</td>\n",
              "      <td>14.0</td>\n",
              "      <td>0.0</td>\n",
              "    </tr>\n",
              "    <tr>\n",
              "      <th>39807</th>\n",
              "      <td>39808</td>\n",
              "      <td>7951428</td>\n",
              "      <td>63</td>\n",
              "      <td>12</td>\n",
              "      <td>2</td>\n",
              "      <td>1</td>\n",
              "      <td>28</td>\n",
              "      <td>NaN</td>\n",
              "      <td>NaN</td>\n",
              "      <td>NaN</td>\n",
              "      <td>NaN</td>\n",
              "      <td>NaN</td>\n",
              "    </tr>\n",
              "  </tbody>\n",
              "</table>\n",
              "<p>39808 rows × 12 columns</p>\n",
              "</div>"
            ],
            "text/plain": [
              "          Id   Income  Age  ...  CURRENT_JOB_YRS  CURRENT_HOUSE_YRS  Risk_Flag\n",
              "0          1  1303834   23  ...              3.0               13.0        0.0\n",
              "1          2  7574516   40  ...              9.0               13.0        0.0\n",
              "2          3  3991815   66  ...              4.0               10.0        0.0\n",
              "3          4  6256451   41  ...              2.0               12.0        1.0\n",
              "4          5  5768871   47  ...              3.0               14.0        1.0\n",
              "...      ...      ...  ...  ...              ...                ...        ...\n",
              "39803  39804  3246861   79  ...              2.0               13.0        0.0\n",
              "39804  39805  1478769   22  ...              8.0               12.0        0.0\n",
              "39805  39806  9541394   22  ...             12.0               11.0        0.0\n",
              "39806  39807   704775   33  ...              4.0               14.0        0.0\n",
              "39807  39808  7951428   63  ...              NaN                NaN        NaN\n",
              "\n",
              "[39808 rows x 12 columns]"
            ]
          },
          "metadata": {},
          "execution_count": 85
        }
      ]
    },
    {
      "cell_type": "code",
      "metadata": {
        "colab": {
          "base_uri": "https://localhost:8080/"
        },
        "id": "yDQjkXQyZ9w3",
        "outputId": "83f5e01f-f958-4394-8eb3-1fc0931101e3"
      },
      "source": [
        "y"
      ],
      "execution_count": 95,
      "outputs": [
        {
          "output_type": "execute_result",
          "data": {
            "text/plain": [
              "0        0.0\n",
              "1        0.0\n",
              "2        0.0\n",
              "3        1.0\n",
              "4        1.0\n",
              "        ... \n",
              "39803    0.0\n",
              "39804    0.0\n",
              "39805    0.0\n",
              "39806    0.0\n",
              "39807    NaN\n",
              "Name: Risk_Flag, Length: 39808, dtype: float64"
            ]
          },
          "metadata": {},
          "execution_count": 95
        }
      ]
    },
    {
      "cell_type": "code",
      "metadata": {
        "id": "YRCmIDYmzZKO"
      },
      "source": [
        "X_train, X_test, y_train, y_test = train_test_split(X, y, test_size=0.30)"
      ],
      "execution_count": 91,
      "outputs": []
    },
    {
      "cell_type": "markdown",
      "metadata": {
        "id": "NBdLDSzfCjns"
      },
      "source": [
        "### Decision Trees\n",
        "\n",
        "We'll start just by training a single decision tree."
      ]
    },
    {
      "cell_type": "code",
      "metadata": {
        "collapsed": true,
        "id": "3TCIjfeNCjnt"
      },
      "source": [
        "from sklearn.tree import DecisionTreeClassifier #Import Decision Tree Classifier"
      ],
      "execution_count": 76,
      "outputs": []
    },
    {
      "cell_type": "code",
      "metadata": {
        "id": "xiWLK2TsWaeo"
      },
      "source": [
        "from sklearn.model_selection import train_test_split"
      ],
      "execution_count": 80,
      "outputs": []
    },
    {
      "cell_type": "markdown",
      "metadata": {
        "id": "iQG8EGbe1QJO"
      },
      "source": [
        "**Create an instance of DecisionTreeClassifier() called dtree and fit it to the training data.**"
      ]
    },
    {
      "cell_type": "code",
      "metadata": {
        "id": "DBFqKQ4zBwQq"
      },
      "source": [
        "dtree=DecisionTreeClassifier()"
      ],
      "execution_count": 86,
      "outputs": []
    },
    {
      "cell_type": "code",
      "metadata": {
        "id": "6y5FBc4HdgCr"
      },
      "source": [
        "from sklearn import metrics"
      ],
      "execution_count": 65,
      "outputs": []
    },
    {
      "cell_type": "code",
      "metadata": {
        "colab": {
          "base_uri": "https://localhost:8080/",
          "height": 969
        },
        "id": "XmVgsMJOCjnt",
        "outputId": "efaa2612-b245-4383-9515-b41c3c91fedf"
      },
      "source": [
        "dtree.fit(X_train,y_train)"
      ],
      "execution_count": 99,
      "outputs": [
        {
          "output_type": "error",
          "ename": "ValueError",
          "evalue": "ignored",
          "traceback": [
            "\u001b[0;31m---------------------------------------------------------------------------\u001b[0m",
            "\u001b[0;31mValueError\u001b[0m                                Traceback (most recent call last)",
            "\u001b[0;32m<ipython-input-99-97e56a26e4dc>\u001b[0m in \u001b[0;36m<module>\u001b[0;34m()\u001b[0m\n\u001b[0;32m----> 1\u001b[0;31m \u001b[0mdtree\u001b[0m\u001b[0;34m.\u001b[0m\u001b[0mfit\u001b[0m\u001b[0;34m(\u001b[0m\u001b[0mX_train\u001b[0m\u001b[0;34m,\u001b[0m\u001b[0my_train\u001b[0m\u001b[0;34m)\u001b[0m\u001b[0;34m\u001b[0m\u001b[0;34m\u001b[0m\u001b[0m\n\u001b[0m",
            "\u001b[0;32m/usr/local/lib/python3.7/dist-packages/sklearn/tree/_classes.py\u001b[0m in \u001b[0;36mfit\u001b[0;34m(self, X, y, sample_weight, check_input, X_idx_sorted)\u001b[0m\n\u001b[1;32m    875\u001b[0m             \u001b[0msample_weight\u001b[0m\u001b[0;34m=\u001b[0m\u001b[0msample_weight\u001b[0m\u001b[0;34m,\u001b[0m\u001b[0;34m\u001b[0m\u001b[0;34m\u001b[0m\u001b[0m\n\u001b[1;32m    876\u001b[0m             \u001b[0mcheck_input\u001b[0m\u001b[0;34m=\u001b[0m\u001b[0mcheck_input\u001b[0m\u001b[0;34m,\u001b[0m\u001b[0;34m\u001b[0m\u001b[0;34m\u001b[0m\u001b[0m\n\u001b[0;32m--> 877\u001b[0;31m             X_idx_sorted=X_idx_sorted)\n\u001b[0m\u001b[1;32m    878\u001b[0m         \u001b[0;32mreturn\u001b[0m \u001b[0mself\u001b[0m\u001b[0;34m\u001b[0m\u001b[0;34m\u001b[0m\u001b[0m\n\u001b[1;32m    879\u001b[0m \u001b[0;34m\u001b[0m\u001b[0m\n",
            "\u001b[0;32m/usr/local/lib/python3.7/dist-packages/sklearn/tree/_classes.py\u001b[0m in \u001b[0;36mfit\u001b[0;34m(self, X, y, sample_weight, check_input, X_idx_sorted)\u001b[0m\n\u001b[1;32m    147\u001b[0m \u001b[0;34m\u001b[0m\u001b[0m\n\u001b[1;32m    148\u001b[0m         \u001b[0;32mif\u001b[0m \u001b[0mcheck_input\u001b[0m\u001b[0;34m:\u001b[0m\u001b[0;34m\u001b[0m\u001b[0;34m\u001b[0m\u001b[0m\n\u001b[0;32m--> 149\u001b[0;31m             \u001b[0mX\u001b[0m \u001b[0;34m=\u001b[0m \u001b[0mcheck_array\u001b[0m\u001b[0;34m(\u001b[0m\u001b[0mX\u001b[0m\u001b[0;34m,\u001b[0m \u001b[0mdtype\u001b[0m\u001b[0;34m=\u001b[0m\u001b[0mDTYPE\u001b[0m\u001b[0;34m,\u001b[0m \u001b[0maccept_sparse\u001b[0m\u001b[0;34m=\u001b[0m\u001b[0;34m\"csc\"\u001b[0m\u001b[0;34m)\u001b[0m\u001b[0;34m\u001b[0m\u001b[0;34m\u001b[0m\u001b[0m\n\u001b[0m\u001b[1;32m    150\u001b[0m             \u001b[0my\u001b[0m \u001b[0;34m=\u001b[0m \u001b[0mcheck_array\u001b[0m\u001b[0;34m(\u001b[0m\u001b[0my\u001b[0m\u001b[0;34m,\u001b[0m \u001b[0mensure_2d\u001b[0m\u001b[0;34m=\u001b[0m\u001b[0;32mFalse\u001b[0m\u001b[0;34m,\u001b[0m \u001b[0mdtype\u001b[0m\u001b[0;34m=\u001b[0m\u001b[0;32mNone\u001b[0m\u001b[0;34m)\u001b[0m\u001b[0;34m\u001b[0m\u001b[0;34m\u001b[0m\u001b[0m\n\u001b[1;32m    151\u001b[0m             \u001b[0;32mif\u001b[0m \u001b[0missparse\u001b[0m\u001b[0;34m(\u001b[0m\u001b[0mX\u001b[0m\u001b[0;34m)\u001b[0m\u001b[0;34m:\u001b[0m\u001b[0;34m\u001b[0m\u001b[0;34m\u001b[0m\u001b[0m\n",
            "\u001b[0;32m/usr/local/lib/python3.7/dist-packages/sklearn/utils/validation.py\u001b[0m in \u001b[0;36mcheck_array\u001b[0;34m(array, accept_sparse, accept_large_sparse, dtype, order, copy, force_all_finite, ensure_2d, allow_nd, ensure_min_samples, ensure_min_features, warn_on_dtype, estimator)\u001b[0m\n\u001b[1;32m    529\u001b[0m                     \u001b[0marray\u001b[0m \u001b[0;34m=\u001b[0m \u001b[0marray\u001b[0m\u001b[0;34m.\u001b[0m\u001b[0mastype\u001b[0m\u001b[0;34m(\u001b[0m\u001b[0mdtype\u001b[0m\u001b[0;34m,\u001b[0m \u001b[0mcasting\u001b[0m\u001b[0;34m=\u001b[0m\u001b[0;34m\"unsafe\"\u001b[0m\u001b[0;34m,\u001b[0m \u001b[0mcopy\u001b[0m\u001b[0;34m=\u001b[0m\u001b[0;32mFalse\u001b[0m\u001b[0;34m)\u001b[0m\u001b[0;34m\u001b[0m\u001b[0;34m\u001b[0m\u001b[0m\n\u001b[1;32m    530\u001b[0m                 \u001b[0;32melse\u001b[0m\u001b[0;34m:\u001b[0m\u001b[0;34m\u001b[0m\u001b[0;34m\u001b[0m\u001b[0m\n\u001b[0;32m--> 531\u001b[0;31m                     \u001b[0marray\u001b[0m \u001b[0;34m=\u001b[0m \u001b[0mnp\u001b[0m\u001b[0;34m.\u001b[0m\u001b[0masarray\u001b[0m\u001b[0;34m(\u001b[0m\u001b[0marray\u001b[0m\u001b[0;34m,\u001b[0m \u001b[0morder\u001b[0m\u001b[0;34m=\u001b[0m\u001b[0morder\u001b[0m\u001b[0;34m,\u001b[0m \u001b[0mdtype\u001b[0m\u001b[0;34m=\u001b[0m\u001b[0mdtype\u001b[0m\u001b[0;34m)\u001b[0m\u001b[0;34m\u001b[0m\u001b[0;34m\u001b[0m\u001b[0m\n\u001b[0m\u001b[1;32m    532\u001b[0m             \u001b[0;32mexcept\u001b[0m \u001b[0mComplexWarning\u001b[0m\u001b[0;34m:\u001b[0m\u001b[0;34m\u001b[0m\u001b[0;34m\u001b[0m\u001b[0m\n\u001b[1;32m    533\u001b[0m                 raise ValueError(\"Complex data not supported\\n\"\n",
            "\u001b[0;32m/usr/local/lib/python3.7/dist-packages/numpy/core/_asarray.py\u001b[0m in \u001b[0;36masarray\u001b[0;34m(a, dtype, order)\u001b[0m\n\u001b[1;32m     81\u001b[0m \u001b[0;34m\u001b[0m\u001b[0m\n\u001b[1;32m     82\u001b[0m     \"\"\"\n\u001b[0;32m---> 83\u001b[0;31m     \u001b[0;32mreturn\u001b[0m \u001b[0marray\u001b[0m\u001b[0;34m(\u001b[0m\u001b[0ma\u001b[0m\u001b[0;34m,\u001b[0m \u001b[0mdtype\u001b[0m\u001b[0;34m,\u001b[0m \u001b[0mcopy\u001b[0m\u001b[0;34m=\u001b[0m\u001b[0;32mFalse\u001b[0m\u001b[0;34m,\u001b[0m \u001b[0morder\u001b[0m\u001b[0;34m=\u001b[0m\u001b[0morder\u001b[0m\u001b[0;34m)\u001b[0m\u001b[0;34m\u001b[0m\u001b[0;34m\u001b[0m\u001b[0m\n\u001b[0m\u001b[1;32m     84\u001b[0m \u001b[0;34m\u001b[0m\u001b[0m\n\u001b[1;32m     85\u001b[0m \u001b[0;34m\u001b[0m\u001b[0m\n",
            "\u001b[0;32m/usr/local/lib/python3.7/dist-packages/pandas/core/generic.py\u001b[0m in \u001b[0;36m__array__\u001b[0;34m(self, dtype)\u001b[0m\n\u001b[1;32m   1779\u001b[0m \u001b[0;34m\u001b[0m\u001b[0m\n\u001b[1;32m   1780\u001b[0m     \u001b[0;32mdef\u001b[0m \u001b[0m__array__\u001b[0m\u001b[0;34m(\u001b[0m\u001b[0mself\u001b[0m\u001b[0;34m,\u001b[0m \u001b[0mdtype\u001b[0m\u001b[0;34m=\u001b[0m\u001b[0;32mNone\u001b[0m\u001b[0;34m)\u001b[0m \u001b[0;34m->\u001b[0m \u001b[0mnp\u001b[0m\u001b[0;34m.\u001b[0m\u001b[0mndarray\u001b[0m\u001b[0;34m:\u001b[0m\u001b[0;34m\u001b[0m\u001b[0;34m\u001b[0m\u001b[0m\n\u001b[0;32m-> 1781\u001b[0;31m         \u001b[0;32mreturn\u001b[0m \u001b[0mnp\u001b[0m\u001b[0;34m.\u001b[0m\u001b[0masarray\u001b[0m\u001b[0;34m(\u001b[0m\u001b[0mself\u001b[0m\u001b[0;34m.\u001b[0m\u001b[0m_values\u001b[0m\u001b[0;34m,\u001b[0m \u001b[0mdtype\u001b[0m\u001b[0;34m=\u001b[0m\u001b[0mdtype\u001b[0m\u001b[0;34m)\u001b[0m\u001b[0;34m\u001b[0m\u001b[0;34m\u001b[0m\u001b[0m\n\u001b[0m\u001b[1;32m   1782\u001b[0m \u001b[0;34m\u001b[0m\u001b[0m\n\u001b[1;32m   1783\u001b[0m     \u001b[0;32mdef\u001b[0m \u001b[0m__array_wrap__\u001b[0m\u001b[0;34m(\u001b[0m\u001b[0mself\u001b[0m\u001b[0;34m,\u001b[0m \u001b[0mresult\u001b[0m\u001b[0;34m,\u001b[0m \u001b[0mcontext\u001b[0m\u001b[0;34m=\u001b[0m\u001b[0;32mNone\u001b[0m\u001b[0;34m)\u001b[0m\u001b[0;34m:\u001b[0m\u001b[0;34m\u001b[0m\u001b[0;34m\u001b[0m\u001b[0m\n",
            "\u001b[0;32m/usr/local/lib/python3.7/dist-packages/numpy/core/_asarray.py\u001b[0m in \u001b[0;36masarray\u001b[0;34m(a, dtype, order)\u001b[0m\n\u001b[1;32m     81\u001b[0m \u001b[0;34m\u001b[0m\u001b[0m\n\u001b[1;32m     82\u001b[0m     \"\"\"\n\u001b[0;32m---> 83\u001b[0;31m     \u001b[0;32mreturn\u001b[0m \u001b[0marray\u001b[0m\u001b[0;34m(\u001b[0m\u001b[0ma\u001b[0m\u001b[0;34m,\u001b[0m \u001b[0mdtype\u001b[0m\u001b[0;34m,\u001b[0m \u001b[0mcopy\u001b[0m\u001b[0;34m=\u001b[0m\u001b[0;32mFalse\u001b[0m\u001b[0;34m,\u001b[0m \u001b[0morder\u001b[0m\u001b[0;34m=\u001b[0m\u001b[0morder\u001b[0m\u001b[0;34m)\u001b[0m\u001b[0;34m\u001b[0m\u001b[0;34m\u001b[0m\u001b[0m\n\u001b[0m\u001b[1;32m     84\u001b[0m \u001b[0;34m\u001b[0m\u001b[0m\n\u001b[1;32m     85\u001b[0m \u001b[0;34m\u001b[0m\u001b[0m\n",
            "\u001b[0;31mValueError\u001b[0m: could not convert string to float: 'Bijapur'"
          ]
        }
      ]
    },
    {
      "cell_type": "markdown",
      "metadata": {
        "id": "n3ebdkD11QJQ"
      },
      "source": [
        "## Predictions and Evaluation of Decision Tree\n",
        "**Create predictions from the test set and create a classification report and a confusion matrix.**"
      ]
    },
    {
      "cell_type": "code",
      "metadata": {
        "collapsed": true,
        "id": "LPLKjtS-Cjnu",
        "colab": {
          "base_uri": "https://localhost:8080/",
          "height": 340
        },
        "outputId": "7a5956c6-1512-4d2f-cad1-7fd428288f4a"
      },
      "source": [
        "predictions = dtree.predict(X_test)"
      ],
      "execution_count": 90,
      "outputs": [
        {
          "output_type": "error",
          "ename": "NotFittedError",
          "evalue": "ignored",
          "traceback": [
            "\u001b[0;31m---------------------------------------------------------------------------\u001b[0m",
            "\u001b[0;31mNotFittedError\u001b[0m                            Traceback (most recent call last)",
            "\u001b[0;32m<ipython-input-90-a654eebc021b>\u001b[0m in \u001b[0;36m<module>\u001b[0;34m()\u001b[0m\n\u001b[0;32m----> 1\u001b[0;31m \u001b[0mpredictions\u001b[0m \u001b[0;34m=\u001b[0m \u001b[0mdtree\u001b[0m\u001b[0;34m.\u001b[0m\u001b[0mpredict\u001b[0m\u001b[0;34m(\u001b[0m\u001b[0mX_test\u001b[0m\u001b[0;34m)\u001b[0m\u001b[0;34m\u001b[0m\u001b[0;34m\u001b[0m\u001b[0m\n\u001b[0m",
            "\u001b[0;32m/usr/local/lib/python3.7/dist-packages/sklearn/tree/_classes.py\u001b[0m in \u001b[0;36mpredict\u001b[0;34m(self, X, check_input)\u001b[0m\n\u001b[1;32m    416\u001b[0m             \u001b[0mThe\u001b[0m \u001b[0mpredicted\u001b[0m \u001b[0mclasses\u001b[0m\u001b[0;34m,\u001b[0m \u001b[0;32mor\u001b[0m \u001b[0mthe\u001b[0m \u001b[0mpredict\u001b[0m \u001b[0mvalues\u001b[0m\u001b[0;34m.\u001b[0m\u001b[0;34m\u001b[0m\u001b[0;34m\u001b[0m\u001b[0m\n\u001b[1;32m    417\u001b[0m         \"\"\"\n\u001b[0;32m--> 418\u001b[0;31m         \u001b[0mcheck_is_fitted\u001b[0m\u001b[0;34m(\u001b[0m\u001b[0mself\u001b[0m\u001b[0;34m)\u001b[0m\u001b[0;34m\u001b[0m\u001b[0;34m\u001b[0m\u001b[0m\n\u001b[0m\u001b[1;32m    419\u001b[0m         \u001b[0mX\u001b[0m \u001b[0;34m=\u001b[0m \u001b[0mself\u001b[0m\u001b[0;34m.\u001b[0m\u001b[0m_validate_X_predict\u001b[0m\u001b[0;34m(\u001b[0m\u001b[0mX\u001b[0m\u001b[0;34m,\u001b[0m \u001b[0mcheck_input\u001b[0m\u001b[0;34m)\u001b[0m\u001b[0;34m\u001b[0m\u001b[0;34m\u001b[0m\u001b[0m\n\u001b[1;32m    420\u001b[0m         \u001b[0mproba\u001b[0m \u001b[0;34m=\u001b[0m \u001b[0mself\u001b[0m\u001b[0;34m.\u001b[0m\u001b[0mtree_\u001b[0m\u001b[0;34m.\u001b[0m\u001b[0mpredict\u001b[0m\u001b[0;34m(\u001b[0m\u001b[0mX\u001b[0m\u001b[0;34m)\u001b[0m\u001b[0;34m\u001b[0m\u001b[0;34m\u001b[0m\u001b[0m\n",
            "\u001b[0;32m/usr/local/lib/python3.7/dist-packages/sklearn/utils/validation.py\u001b[0m in \u001b[0;36mcheck_is_fitted\u001b[0;34m(estimator, attributes, msg, all_or_any)\u001b[0m\n\u001b[1;32m    965\u001b[0m \u001b[0;34m\u001b[0m\u001b[0m\n\u001b[1;32m    966\u001b[0m     \u001b[0;32mif\u001b[0m \u001b[0;32mnot\u001b[0m \u001b[0mattrs\u001b[0m\u001b[0;34m:\u001b[0m\u001b[0;34m\u001b[0m\u001b[0;34m\u001b[0m\u001b[0m\n\u001b[0;32m--> 967\u001b[0;31m         \u001b[0;32mraise\u001b[0m \u001b[0mNotFittedError\u001b[0m\u001b[0;34m(\u001b[0m\u001b[0mmsg\u001b[0m \u001b[0;34m%\u001b[0m \u001b[0;34m{\u001b[0m\u001b[0;34m'name'\u001b[0m\u001b[0;34m:\u001b[0m \u001b[0mtype\u001b[0m\u001b[0;34m(\u001b[0m\u001b[0mestimator\u001b[0m\u001b[0;34m)\u001b[0m\u001b[0;34m.\u001b[0m\u001b[0m__name__\u001b[0m\u001b[0;34m}\u001b[0m\u001b[0;34m)\u001b[0m\u001b[0;34m\u001b[0m\u001b[0;34m\u001b[0m\u001b[0m\n\u001b[0m\u001b[1;32m    968\u001b[0m \u001b[0;34m\u001b[0m\u001b[0m\n\u001b[1;32m    969\u001b[0m \u001b[0;34m\u001b[0m\u001b[0m\n",
            "\u001b[0;31mNotFittedError\u001b[0m: This DecisionTreeClassifier instance is not fitted yet. Call 'fit' with appropriate arguments before using this estimator."
          ]
        }
      ]
    },
    {
      "cell_type": "code",
      "metadata": {
        "collapsed": true,
        "id": "eApEMRQQCjnu"
      },
      "source": [
        ""
      ],
      "execution_count": null,
      "outputs": []
    },
    {
      "cell_type": "code",
      "metadata": {
        "colab": {
          "base_uri": "https://localhost:8080/"
        },
        "id": "Qz0NAhoF2VcR",
        "outputId": "dece7c1e-8206-48a8-afce-901ef7baaab8"
      },
      "source": [
        ""
      ],
      "execution_count": null,
      "outputs": [
        {
          "output_type": "stream",
          "name": "stdout",
          "text": [
            "              precision    recall  f1-score   support\n",
            "\n",
            "           0       0.94      0.92      0.93     66361\n",
            "           1       0.51      0.57      0.54      9239\n",
            "\n",
            "    accuracy                           0.88     75600\n",
            "   macro avg       0.73      0.75      0.74     75600\n",
            "weighted avg       0.89      0.88      0.88     75600\n",
            "\n"
          ]
        }
      ]
    },
    {
      "cell_type": "code",
      "metadata": {
        "colab": {
          "base_uri": "https://localhost:8080/"
        },
        "id": "zuHL0SM5Cjnv",
        "outputId": "a4252166-18c7-4304-aa07-53c52849b856"
      },
      "source": [
        ""
      ],
      "execution_count": null,
      "outputs": [
        {
          "output_type": "stream",
          "name": "stdout",
          "text": [
            "[[61298  5063]\n",
            " [ 3952  5287]]\n"
          ]
        }
      ]
    },
    {
      "cell_type": "markdown",
      "metadata": {
        "id": "txeuXfSwCjnv"
      },
      "source": [
        "## Tree Visualization\n",
        "\n",
        "Scikit learn actually has some built-in visualization capabilities for decision trees, you won't use this often and it requires you to install the pydot library, but here is an example of what it looks like and the code to execute this:"
      ]
    },
    {
      "cell_type": "code",
      "metadata": {
        "colab": {
          "base_uri": "https://localhost:8080/"
        },
        "id": "nrVKVrXnCjnv",
        "outputId": "8472a1c2-2510-4287-95d9-3f4236cf434a"
      },
      "source": [
        "from IPython.display import Image  \n",
        "from sklearn.externals.six import StringIO  \n",
        "from sklearn.tree import export_graphviz\n",
        "import pydot \n",
        "\n",
        "features = list(df.columns[1:])\n",
        "features"
      ],
      "execution_count": 93,
      "outputs": [
        {
          "output_type": "stream",
          "name": "stderr",
          "text": [
            "/usr/local/lib/python3.7/dist-packages/sklearn/externals/six.py:31: FutureWarning: The module is deprecated in version 0.21 and will be removed in version 0.23 since we've dropped support for Python 2.7. Please rely on the official version of six (https://pypi.org/project/six/).\n",
            "  \"(https://pypi.org/project/six/).\", FutureWarning)\n"
          ]
        },
        {
          "output_type": "execute_result",
          "data": {
            "text/plain": [
              "['Income',\n",
              " 'Age',\n",
              " 'Experience',\n",
              " 'Married/Single',\n",
              " 'House_Ownership',\n",
              " 'Car_Ownership',\n",
              " 'Profession',\n",
              " 'CITY',\n",
              " 'STATE',\n",
              " 'CURRENT_JOB_YRS',\n",
              " 'CURRENT_HOUSE_YRS',\n",
              " 'Risk_Flag']"
            ]
          },
          "metadata": {},
          "execution_count": 93
        }
      ]
    },
    {
      "cell_type": "code",
      "metadata": {
        "colab": {
          "base_uri": "https://localhost:8080/",
          "height": 408
        },
        "id": "4KIMHH1_Cjnw",
        "outputId": "e5eae25c-04da-47d0-c576-53b2be4fc080"
      },
      "source": [
        "dot_data = StringIO()  \n",
        "export_graphviz(dtree, out_file=dot_data,feature_names=features,filled=True,rounded=True)\n",
        "\n",
        "graph = pydot.graph_from_dot_data(dot_data.getvalue())  \n",
        "Image(graph[0].create_png())  "
      ],
      "execution_count": 94,
      "outputs": [
        {
          "output_type": "error",
          "ename": "NotFittedError",
          "evalue": "ignored",
          "traceback": [
            "\u001b[0;31m---------------------------------------------------------------------------\u001b[0m",
            "\u001b[0;31mNotFittedError\u001b[0m                            Traceback (most recent call last)",
            "\u001b[0;32m<ipython-input-94-96c260692d17>\u001b[0m in \u001b[0;36m<module>\u001b[0;34m()\u001b[0m\n\u001b[1;32m      1\u001b[0m \u001b[0mdot_data\u001b[0m \u001b[0;34m=\u001b[0m \u001b[0mStringIO\u001b[0m\u001b[0;34m(\u001b[0m\u001b[0;34m)\u001b[0m\u001b[0;34m\u001b[0m\u001b[0;34m\u001b[0m\u001b[0m\n\u001b[0;32m----> 2\u001b[0;31m \u001b[0mexport_graphviz\u001b[0m\u001b[0;34m(\u001b[0m\u001b[0mdtree\u001b[0m\u001b[0;34m,\u001b[0m \u001b[0mout_file\u001b[0m\u001b[0;34m=\u001b[0m\u001b[0mdot_data\u001b[0m\u001b[0;34m,\u001b[0m\u001b[0mfeature_names\u001b[0m\u001b[0;34m=\u001b[0m\u001b[0mfeatures\u001b[0m\u001b[0;34m,\u001b[0m\u001b[0mfilled\u001b[0m\u001b[0;34m=\u001b[0m\u001b[0;32mTrue\u001b[0m\u001b[0;34m,\u001b[0m\u001b[0mrounded\u001b[0m\u001b[0;34m=\u001b[0m\u001b[0;32mTrue\u001b[0m\u001b[0;34m)\u001b[0m\u001b[0;34m\u001b[0m\u001b[0;34m\u001b[0m\u001b[0m\n\u001b[0m\u001b[1;32m      3\u001b[0m \u001b[0;34m\u001b[0m\u001b[0m\n\u001b[1;32m      4\u001b[0m \u001b[0mgraph\u001b[0m \u001b[0;34m=\u001b[0m \u001b[0mpydot\u001b[0m\u001b[0;34m.\u001b[0m\u001b[0mgraph_from_dot_data\u001b[0m\u001b[0;34m(\u001b[0m\u001b[0mdot_data\u001b[0m\u001b[0;34m.\u001b[0m\u001b[0mgetvalue\u001b[0m\u001b[0;34m(\u001b[0m\u001b[0;34m)\u001b[0m\u001b[0;34m)\u001b[0m\u001b[0;34m\u001b[0m\u001b[0;34m\u001b[0m\u001b[0m\n\u001b[1;32m      5\u001b[0m \u001b[0mImage\u001b[0m\u001b[0;34m(\u001b[0m\u001b[0mgraph\u001b[0m\u001b[0;34m[\u001b[0m\u001b[0;36m0\u001b[0m\u001b[0;34m]\u001b[0m\u001b[0;34m.\u001b[0m\u001b[0mcreate_png\u001b[0m\u001b[0;34m(\u001b[0m\u001b[0;34m)\u001b[0m\u001b[0;34m)\u001b[0m\u001b[0;34m\u001b[0m\u001b[0;34m\u001b[0m\u001b[0m\n",
            "\u001b[0;32m/usr/local/lib/python3.7/dist-packages/sklearn/tree/_export.py\u001b[0m in \u001b[0;36mexport_graphviz\u001b[0;34m(decision_tree, out_file, max_depth, feature_names, class_names, label, filled, leaves_parallel, impurity, node_ids, proportion, rotate, rounded, special_characters, precision)\u001b[0m\n\u001b[1;32m    743\u001b[0m     \"\"\"\n\u001b[1;32m    744\u001b[0m \u001b[0;34m\u001b[0m\u001b[0m\n\u001b[0;32m--> 745\u001b[0;31m     \u001b[0mcheck_is_fitted\u001b[0m\u001b[0;34m(\u001b[0m\u001b[0mdecision_tree\u001b[0m\u001b[0;34m)\u001b[0m\u001b[0;34m\u001b[0m\u001b[0;34m\u001b[0m\u001b[0m\n\u001b[0m\u001b[1;32m    746\u001b[0m     \u001b[0mown_file\u001b[0m \u001b[0;34m=\u001b[0m \u001b[0;32mFalse\u001b[0m\u001b[0;34m\u001b[0m\u001b[0;34m\u001b[0m\u001b[0m\n\u001b[1;32m    747\u001b[0m     \u001b[0mreturn_string\u001b[0m \u001b[0;34m=\u001b[0m \u001b[0;32mFalse\u001b[0m\u001b[0;34m\u001b[0m\u001b[0;34m\u001b[0m\u001b[0m\n",
            "\u001b[0;32m/usr/local/lib/python3.7/dist-packages/sklearn/utils/validation.py\u001b[0m in \u001b[0;36mcheck_is_fitted\u001b[0;34m(estimator, attributes, msg, all_or_any)\u001b[0m\n\u001b[1;32m    965\u001b[0m \u001b[0;34m\u001b[0m\u001b[0m\n\u001b[1;32m    966\u001b[0m     \u001b[0;32mif\u001b[0m \u001b[0;32mnot\u001b[0m \u001b[0mattrs\u001b[0m\u001b[0;34m:\u001b[0m\u001b[0;34m\u001b[0m\u001b[0;34m\u001b[0m\u001b[0m\n\u001b[0;32m--> 967\u001b[0;31m         \u001b[0;32mraise\u001b[0m \u001b[0mNotFittedError\u001b[0m\u001b[0;34m(\u001b[0m\u001b[0mmsg\u001b[0m \u001b[0;34m%\u001b[0m \u001b[0;34m{\u001b[0m\u001b[0;34m'name'\u001b[0m\u001b[0;34m:\u001b[0m \u001b[0mtype\u001b[0m\u001b[0;34m(\u001b[0m\u001b[0mestimator\u001b[0m\u001b[0;34m)\u001b[0m\u001b[0;34m.\u001b[0m\u001b[0m__name__\u001b[0m\u001b[0;34m}\u001b[0m\u001b[0;34m)\u001b[0m\u001b[0;34m\u001b[0m\u001b[0;34m\u001b[0m\u001b[0m\n\u001b[0m\u001b[1;32m    968\u001b[0m \u001b[0;34m\u001b[0m\u001b[0m\n\u001b[1;32m    969\u001b[0m \u001b[0;34m\u001b[0m\u001b[0m\n",
            "\u001b[0;31mNotFittedError\u001b[0m: This DecisionTreeClassifier instance is not fitted yet. Call 'fit' with appropriate arguments before using this estimator."
          ]
        }
      ]
    },
    {
      "cell_type": "markdown",
      "metadata": {
        "id": "c9THuoIt1QJR"
      },
      "source": [
        "## Training the Random Forest model\n",
        "\n",
        "Now its time to train our model!\n",
        "\n",
        "**Create an instance of the RandomForestClassifier class and fit it to our training data from the previous step.**"
      ]
    },
    {
      "cell_type": "code",
      "metadata": {
        "id": "G5qiTaYTCR4n"
      },
      "source": [
        "from sklearn.ensemble import RandomForestClassifier\n"
      ],
      "execution_count": null,
      "outputs": []
    },
    {
      "cell_type": "code",
      "metadata": {
        "id": "2ZNcVgd6CXLJ"
      },
      "source": [
        ""
      ],
      "execution_count": null,
      "outputs": []
    },
    {
      "cell_type": "code",
      "metadata": {
        "colab": {
          "base_uri": "https://localhost:8080/"
        },
        "id": "z-SArL9LCjnw",
        "outputId": "0237bbce-2b31-40af-be65-207c4148b251"
      },
      "source": [
        ""
      ],
      "execution_count": null,
      "outputs": [
        {
          "output_type": "execute_result",
          "data": {
            "text/plain": [
              "RandomForestClassifier(bootstrap=True, ccp_alpha=0.0, class_weight=None,\n",
              "                       criterion='gini', max_depth=None, max_features='auto',\n",
              "                       max_leaf_nodes=None, max_samples=None,\n",
              "                       min_impurity_decrease=0.0, min_impurity_split=None,\n",
              "                       min_samples_leaf=1, min_samples_split=2,\n",
              "                       min_weight_fraction_leaf=0.0, n_estimators=100,\n",
              "                       n_jobs=None, oob_score=False, random_state=None,\n",
              "                       verbose=0, warm_start=False)"
            ]
          },
          "metadata": {},
          "execution_count": 36
        }
      ]
    },
    {
      "cell_type": "markdown",
      "metadata": {
        "id": "5Og5qUh51QJS"
      },
      "source": [
        "## Predictions and Evaluation\n",
        "\n",
        "Let's predict off the y_test values and evaluate our model.\n",
        "\n"
      ]
    },
    {
      "cell_type": "code",
      "metadata": {
        "id": "04ARneuFCjnx"
      },
      "source": [
        ""
      ],
      "execution_count": null,
      "outputs": []
    },
    {
      "cell_type": "markdown",
      "metadata": {
        "id": "T8laxhup1QJS"
      },
      "source": [
        "**Now create a classification report from the results. Do you get anything strange or some sort of warning?**"
      ]
    },
    {
      "cell_type": "code",
      "metadata": {
        "colab": {
          "base_uri": "https://localhost:8080/"
        },
        "id": "KVjkIPQK2-P4",
        "outputId": "3da04e19-2791-4bce-83fe-9acd9b160b34"
      },
      "source": [
        ""
      ],
      "execution_count": null,
      "outputs": [
        {
          "output_type": "stream",
          "name": "stdout",
          "text": [
            "              precision    recall  f1-score   support\n",
            "\n",
            "           0       0.94      0.95      0.94     66361\n",
            "           1       0.59      0.54      0.57      9239\n",
            "\n",
            "    accuracy                           0.90     75600\n",
            "   macro avg       0.77      0.75      0.76     75600\n",
            "weighted avg       0.90      0.90      0.90     75600\n",
            "\n"
          ]
        }
      ]
    },
    {
      "cell_type": "markdown",
      "metadata": {
        "id": "mxwPL7691QJT"
      },
      "source": [
        "**Show the Confusion Matrix for the predictions.**"
      ]
    },
    {
      "cell_type": "code",
      "metadata": {
        "colab": {
          "base_uri": "https://localhost:8080/"
        },
        "id": "puNoHCuzCjnx",
        "outputId": "7eb8f8d5-904a-4c3d-e96a-b6e0b012cac4"
      },
      "source": [
        ""
      ],
      "execution_count": null,
      "outputs": [
        {
          "output_type": "stream",
          "name": "stdout",
          "text": [
            "[[62919  3442]\n",
            " [ 4208  5031]]\n"
          ]
        }
      ]
    },
    {
      "cell_type": "markdown",
      "metadata": {
        "collapsed": true,
        "id": "pQN9rkMU1QJU"
      },
      "source": [
        "**What performed better the random forest or the decision tree?**"
      ]
    },
    {
      "cell_type": "code",
      "metadata": {
        "collapsed": true,
        "id": "1CqVdcfj1QJZ"
      },
      "source": [
        ""
      ],
      "execution_count": null,
      "outputs": []
    },
    {
      "cell_type": "markdown",
      "metadata": {
        "id": "V4wBxaz71QJZ"
      },
      "source": [
        "# Great Job!"
      ]
    }
  ]
}